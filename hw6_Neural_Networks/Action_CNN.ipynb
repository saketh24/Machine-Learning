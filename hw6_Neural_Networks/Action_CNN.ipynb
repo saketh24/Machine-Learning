{
 "cells": [
  {
   "cell_type": "markdown",
   "metadata": {
    "colab_type": "text",
    "id": "Czg1rhNykikI"
   },
   "source": [
    "# Training a ConvNet PyTorch\n",
    "\n",
    "In this notebook, you'll learn how to use the powerful PyTorch framework to specify a conv net architecture and train it on the human action recognition dataset. \n"
   ]
  },
  {
   "cell_type": "code",
   "execution_count": 1,
   "metadata": {
    "colab": {},
    "colab_type": "code",
    "id": "sDLBxflrkikP"
   },
   "outputs": [],
   "source": [
    "import torch\n",
    "import torch.nn as nn\n",
    "import torch.optim as optim\n",
    "from torch.autograd import Variable\n",
    "from torch.utils.data import DataLoader,sampler,Dataset\n",
    "import torchvision.datasets as dset\n",
    "import torchvision.transforms as T\n",
    "import timeit\n",
    "from PIL import Image\n",
    "import os\n",
    "import numpy as np\n",
    "import scipy.io\n"
   ]
  },
  {
   "cell_type": "markdown",
   "metadata": {
    "colab_type": "text",
    "id": "QElCZx6Lkikk"
   },
   "source": [
    "## What's this PyTorch business?\n",
    "\n",
    "* When using a framework like PyTorch or TensorFlow you can harness the power of the GPU for your own custom neural network architectures without having to write CUDA code directly.\n",
    "* this notebook will walk you through much of what you need to do to train models using pytorch. if you want to learn more or need further clarification on topics that aren't fully explained here, here are 2 good Pytorch tutorials. 1): http://pytorch.org/tutorials/beginner/deep_learning_60min_blitz.html 2)http://pytorch.org/tutorials/beginner/pytorch_with_examples.html\n",
    "* It's not necessary to have a GPU for this homework, using a GPU can make your code run faster.\n"
   ]
  },
  {
   "cell_type": "markdown",
   "metadata": {
    "colab_type": "text",
    "id": "9E8N5CS8kikp"
   },
   "source": [
    "## Load Datasets\n",
    "\n",
    "In this part, we will load the action recognition dataset for the neural network. In order to load data from our custom dataset, we need to write a custom Dataloader. If you put q3_2_data.mat, /valClips,/trainClips,/testClips under the folder of ./data/ , you do not need to change anything in this part."
   ]
  },
  {
   "cell_type": "markdown",
   "metadata": {
    "colab_type": "text",
    "id": "9D-QCMmzkikv"
   },
   "source": [
    "First, load the labels of the dataset, you should write your path of the q3_2_data.mat file."
   ]
  },
  {
   "cell_type": "code",
   "execution_count": 2,
   "metadata": {
    "colab": {},
    "colab_type": "code",
    "id": "ruJKe2KPkik3"
   },
   "outputs": [
    {
     "name": "stdout",
     "output_type": "stream",
     "text": [
      "7770\n",
      "2230\n"
     ]
    }
   ],
   "source": [
    "label_mat=scipy.io.loadmat('C:/Users/saket/Downloads/hw6(2)/Question2/data/hw6_data.mat')\n",
    "label_train=label_mat['trLb']\n",
    "print(len(label_train))\n",
    "label_val=label_mat['valLb']\n",
    "print(len(label_val))"
   ]
  },
  {
   "cell_type": "markdown",
   "metadata": {
    "colab_type": "text",
    "id": "O7YeCsVGkilG"
   },
   "source": [
    "### Dataset class\n",
    "\n",
    "torch.utils.data.Dataset is an abstract class representing a dataset. The custom dataset should inherit Dataset and override the following methods:\n",
    "\n",
    "    __len__ so that len(dataset) returns the size of the dataset.\n",
    "    __getitem__ to support the indexing such that dataset[i] can be used to get ith sample\n",
    "\n",
    "Let’s create a dataset class for our action recognition dataset. We will read images in __getitem__. This is memory efficient because all the images are not stored in the memory at once but read as required.\n",
    "\n",
    "Sample of our dataset will be a dict {'image':image,'img_path':img_path,'Label':Label}. Our datset will take an optional argument transform so that any required processing can be applied on the sample. "
   ]
  },
  {
   "cell_type": "code",
   "execution_count": 3,
   "metadata": {
    "colab": {},
    "colab_type": "code",
    "id": "gwoCMo8XkilH"
   },
   "outputs": [],
   "source": [
    "\n",
    "class ActionDataset(Dataset):\n",
    "    \"\"\"Action dataset.\"\"\"\n",
    "\n",
    "    def __init__(self,  root_dir,labels=[], transform=None):\n",
    "        \"\"\"\n",
    "        Args:\n",
    "            root_dir (string): Directory with all the images.\n",
    "            labels(list): labels if images.\n",
    "            transform (callable, optional): Optional transform to be applied on a sample.\n",
    "        \"\"\"\n",
    "        self.root_dir = root_dir\n",
    "        self.transform = transform\n",
    "        self.length=len(os.listdir(self.root_dir))\n",
    "        self.labels=labels\n",
    "    def __len__(self):\n",
    "        return self.length*3\n",
    "\n",
    "    def __getitem__(self, idx):\n",
    "        \n",
    "        folder=int(idx/3)+1\n",
    "        imidx=idx%3+1\n",
    "        folder=format(folder,'05d')\n",
    "        imgname=str(imidx)+'.jpg'\n",
    "        img_path = os.path.join(self.root_dir,\n",
    "                                folder,imgname)\n",
    "        image = Image.open(img_path)\n",
    "        if len(self.labels)!=0:\n",
    "            Label=self.labels[int(idx/3)][0]-1\n",
    "        if self.transform:\n",
    "            image = self.transform(image)\n",
    "        if len(self.labels)!=0:\n",
    "            sample={'image':image,'img_path':img_path,'Label':Label}\n",
    "        else:\n",
    "            sample={'image':image,'img_path':img_path}\n",
    "        return sample\n",
    "  "
   ]
  },
  {
   "cell_type": "markdown",
   "metadata": {
    "colab_type": "text",
    "id": "uWuBpSGfkilQ"
   },
   "source": [
    "Iterating over the dataset by a for loop."
   ]
  },
  {
   "cell_type": "code",
   "execution_count": 4,
   "metadata": {
    "colab": {},
    "colab_type": "code",
    "id": "hpN7YzC1kilR"
   },
   "outputs": [
    {
     "name": "stdout",
     "output_type": "stream",
     "text": [
      "torch.Size([3, 64, 64])\n",
      "0.0\n",
      "C:/Users/saket/Downloads/hw6(2)/Question2/data/trainClips\\00001\\1.jpg\n",
      "torch.Size([3, 64, 64])\n",
      "0.0\n",
      "C:/Users/saket/Downloads/hw6(2)/Question2/data/trainClips\\00001\\2.jpg\n",
      "torch.Size([3, 64, 64])\n",
      "0.0\n",
      "C:/Users/saket/Downloads/hw6(2)/Question2/data/trainClips\\00001\\3.jpg\n",
      "torch.Size([3, 64, 64])\n",
      "0.0\n",
      "C:/Users/saket/Downloads/hw6(2)/Question2/data/trainClips\\00002\\1.jpg\n",
      "torch.Size([3, 64, 64])\n",
      "0.0\n",
      "C:/Users/saket/Downloads/hw6(2)/Question2/data/trainClips\\00002\\2.jpg\n",
      "torch.Size([3, 64, 64])\n",
      "0.0\n",
      "C:/Users/saket/Downloads/hw6(2)/Question2/data/trainClips\\00002\\3.jpg\n",
      "torch.Size([3, 64, 64])\n",
      "0.0\n",
      "C:/Users/saket/Downloads/hw6(2)/Question2/data/trainClips\\00003\\1.jpg\n",
      "torch.Size([3, 64, 64])\n",
      "0.0\n",
      "C:/Users/saket/Downloads/hw6(2)/Question2/data/trainClips\\00003\\2.jpg\n",
      "torch.Size([3, 64, 64])\n",
      "0.0\n",
      "C:/Users/saket/Downloads/hw6(2)/Question2/data/trainClips\\00003\\3.jpg\n",
      "torch.Size([3, 64, 64])\n",
      "0.0\n",
      "C:/Users/saket/Downloads/hw6(2)/Question2/data/trainClips\\00004\\1.jpg\n"
     ]
    }
   ],
   "source": [
    "image_dataset=ActionDataset(root_dir='C:/Users/saket/Downloads/hw6(2)/Question2/data/trainClips',\\\n",
    "                            labels=label_train,transform=T.ToTensor())\n",
    "\n",
    "#iterating though the dataset\n",
    "for i in range(10):\n",
    "    sample=image_dataset[i]\n",
    "    print(sample['image'].shape)\n",
    "    print(sample['Label'])\n",
    "    print(sample['img_path'])\n",
    "     \n",
    "   "
   ]
  },
  {
   "cell_type": "markdown",
   "metadata": {
    "colab_type": "text",
    "id": "Cg4HxucHkilW"
   },
   "source": [
    "We can iterate over the created dataset with a 'for' loop as before. However, we are losing a lot of features by using a simple for loop to iterate over the data. In particular, we are missing out on:\n",
    "\n",
    "* Batching the data\n",
    "* Shuffling the data\n",
    "* Load the data in parallel using multiprocessing workers.\n",
    "\n",
    "torch.utils.data.DataLoader is an iterator which provides all these features. "
   ]
  },
  {
   "cell_type": "code",
   "execution_count": 31,
   "metadata": {
    "colab": {},
    "colab_type": "code",
    "id": "R_kyIRhJkilY"
   },
   "outputs": [
    {
     "name": "stdout",
     "output_type": "stream",
     "text": [
      "0 torch.Size([4, 3, 64, 64]) ['C:/Users/saket/Downloads/hw6(2)/Question2/data/trainClips\\\\01571\\\\1.jpg', 'C:/Users/saket/Downloads/hw6(2)/Question2/data/trainClips\\\\07537\\\\1.jpg', 'C:/Users/saket/Downloads/hw6(2)/Question2/data/trainClips\\\\01588\\\\1.jpg', 'C:/Users/saket/Downloads/hw6(2)/Question2/data/trainClips\\\\00590\\\\3.jpg'] tensor([1., 9., 1., 0.])\n",
      "1 torch.Size([4, 3, 64, 64]) ['C:/Users/saket/Downloads/hw6(2)/Question2/data/trainClips\\\\03065\\\\3.jpg', 'C:/Users/saket/Downloads/hw6(2)/Question2/data/trainClips\\\\03401\\\\3.jpg', 'C:/Users/saket/Downloads/hw6(2)/Question2/data/trainClips\\\\03753\\\\1.jpg', 'C:/Users/saket/Downloads/hw6(2)/Question2/data/trainClips\\\\01453\\\\1.jpg'] tensor([3., 3., 4., 1.])\n",
      "2 torch.Size([4, 3, 64, 64]) ['C:/Users/saket/Downloads/hw6(2)/Question2/data/trainClips\\\\06653\\\\1.jpg', 'C:/Users/saket/Downloads/hw6(2)/Question2/data/trainClips\\\\04839\\\\1.jpg', 'C:/Users/saket/Downloads/hw6(2)/Question2/data/trainClips\\\\00155\\\\2.jpg', 'C:/Users/saket/Downloads/hw6(2)/Question2/data/trainClips\\\\05572\\\\1.jpg'] tensor([8., 5., 0., 6.])\n",
      "3 torch.Size([4, 3, 64, 64]) ['C:/Users/saket/Downloads/hw6(2)/Question2/data/trainClips\\\\03646\\\\2.jpg', 'C:/Users/saket/Downloads/hw6(2)/Question2/data/trainClips\\\\03684\\\\1.jpg', 'C:/Users/saket/Downloads/hw6(2)/Question2/data/trainClips\\\\06817\\\\1.jpg', 'C:/Users/saket/Downloads/hw6(2)/Question2/data/trainClips\\\\04084\\\\1.jpg'] tensor([4., 4., 8., 4.])\n",
      "4 torch.Size([4, 3, 64, 64]) ['C:/Users/saket/Downloads/hw6(2)/Question2/data/trainClips\\\\00636\\\\2.jpg', 'C:/Users/saket/Downloads/hw6(2)/Question2/data/trainClips\\\\06183\\\\1.jpg', 'C:/Users/saket/Downloads/hw6(2)/Question2/data/trainClips\\\\01838\\\\2.jpg', 'C:/Users/saket/Downloads/hw6(2)/Question2/data/trainClips\\\\04317\\\\2.jpg'] tensor([0., 7., 2., 5.])\n",
      "5 torch.Size([4, 3, 64, 64]) ['C:/Users/saket/Downloads/hw6(2)/Question2/data/trainClips\\\\01599\\\\1.jpg', 'C:/Users/saket/Downloads/hw6(2)/Question2/data/trainClips\\\\02571\\\\3.jpg', 'C:/Users/saket/Downloads/hw6(2)/Question2/data/trainClips\\\\02443\\\\3.jpg', 'C:/Users/saket/Downloads/hw6(2)/Question2/data/trainClips\\\\03419\\\\2.jpg'] tensor([1., 2., 2., 3.])\n",
      "6 torch.Size([4, 3, 64, 64]) ['C:/Users/saket/Downloads/hw6(2)/Question2/data/trainClips\\\\03941\\\\2.jpg', 'C:/Users/saket/Downloads/hw6(2)/Question2/data/trainClips\\\\04236\\\\3.jpg', 'C:/Users/saket/Downloads/hw6(2)/Question2/data/trainClips\\\\07695\\\\2.jpg', 'C:/Users/saket/Downloads/hw6(2)/Question2/data/trainClips\\\\02211\\\\1.jpg'] tensor([4., 5., 9., 2.])\n",
      "7 torch.Size([4, 3, 64, 64]) ['C:/Users/saket/Downloads/hw6(2)/Question2/data/trainClips\\\\01486\\\\3.jpg', 'C:/Users/saket/Downloads/hw6(2)/Question2/data/trainClips\\\\01100\\\\1.jpg', 'C:/Users/saket/Downloads/hw6(2)/Question2/data/trainClips\\\\07048\\\\3.jpg', 'C:/Users/saket/Downloads/hw6(2)/Question2/data/trainClips\\\\06685\\\\3.jpg'] tensor([1., 1., 8., 8.])\n",
      "8 torch.Size([4, 3, 64, 64]) ['C:/Users/saket/Downloads/hw6(2)/Question2/data/trainClips\\\\05257\\\\1.jpg', 'C:/Users/saket/Downloads/hw6(2)/Question2/data/trainClips\\\\00613\\\\2.jpg', 'C:/Users/saket/Downloads/hw6(2)/Question2/data/trainClips\\\\00549\\\\2.jpg', 'C:/Users/saket/Downloads/hw6(2)/Question2/data/trainClips\\\\06284\\\\3.jpg'] tensor([6., 0., 0., 7.])\n",
      "9 torch.Size([4, 3, 64, 64]) ['C:/Users/saket/Downloads/hw6(2)/Question2/data/trainClips\\\\07216\\\\2.jpg', 'C:/Users/saket/Downloads/hw6(2)/Question2/data/trainClips\\\\03105\\\\3.jpg', 'C:/Users/saket/Downloads/hw6(2)/Question2/data/trainClips\\\\05123\\\\3.jpg', 'C:/Users/saket/Downloads/hw6(2)/Question2/data/trainClips\\\\00543\\\\3.jpg'] tensor([9., 3., 6., 0.])\n",
      "10 torch.Size([4, 3, 64, 64]) ['C:/Users/saket/Downloads/hw6(2)/Question2/data/trainClips\\\\05248\\\\2.jpg', 'C:/Users/saket/Downloads/hw6(2)/Question2/data/trainClips\\\\02719\\\\3.jpg', 'C:/Users/saket/Downloads/hw6(2)/Question2/data/trainClips\\\\04553\\\\3.jpg', 'C:/Users/saket/Downloads/hw6(2)/Question2/data/trainClips\\\\06540\\\\1.jpg'] tensor([6., 3., 5., 8.])\n",
      "11 torch.Size([4, 3, 64, 64]) ['C:/Users/saket/Downloads/hw6(2)/Question2/data/trainClips\\\\04858\\\\2.jpg', 'C:/Users/saket/Downloads/hw6(2)/Question2/data/trainClips\\\\00139\\\\1.jpg', 'C:/Users/saket/Downloads/hw6(2)/Question2/data/trainClips\\\\02286\\\\1.jpg', 'C:/Users/saket/Downloads/hw6(2)/Question2/data/trainClips\\\\02841\\\\2.jpg'] tensor([5., 0., 2., 3.])\n",
      "12 torch.Size([4, 3, 64, 64]) ['C:/Users/saket/Downloads/hw6(2)/Question2/data/trainClips\\\\06314\\\\3.jpg', 'C:/Users/saket/Downloads/hw6(2)/Question2/data/trainClips\\\\07044\\\\1.jpg', 'C:/Users/saket/Downloads/hw6(2)/Question2/data/trainClips\\\\00472\\\\1.jpg', 'C:/Users/saket/Downloads/hw6(2)/Question2/data/trainClips\\\\07312\\\\2.jpg'] tensor([7., 8., 0., 9.])\n",
      "13 torch.Size([4, 3, 64, 64]) ['C:/Users/saket/Downloads/hw6(2)/Question2/data/trainClips\\\\05179\\\\1.jpg', 'C:/Users/saket/Downloads/hw6(2)/Question2/data/trainClips\\\\00730\\\\1.jpg', 'C:/Users/saket/Downloads/hw6(2)/Question2/data/trainClips\\\\07165\\\\3.jpg', 'C:/Users/saket/Downloads/hw6(2)/Question2/data/trainClips\\\\03640\\\\2.jpg'] tensor([6., 0., 9., 4.])\n",
      "14 torch.Size([4, 3, 64, 64]) ['C:/Users/saket/Downloads/hw6(2)/Question2/data/trainClips\\\\05115\\\\1.jpg', 'C:/Users/saket/Downloads/hw6(2)/Question2/data/trainClips\\\\01355\\\\1.jpg', 'C:/Users/saket/Downloads/hw6(2)/Question2/data/trainClips\\\\01155\\\\3.jpg', 'C:/Users/saket/Downloads/hw6(2)/Question2/data/trainClips\\\\04843\\\\2.jpg'] tensor([6., 1., 1., 5.])\n",
      "15 torch.Size([4, 3, 64, 64]) ['C:/Users/saket/Downloads/hw6(2)/Question2/data/trainClips\\\\01783\\\\3.jpg', 'C:/Users/saket/Downloads/hw6(2)/Question2/data/trainClips\\\\07128\\\\3.jpg', 'C:/Users/saket/Downloads/hw6(2)/Question2/data/trainClips\\\\00971\\\\1.jpg', 'C:/Users/saket/Downloads/hw6(2)/Question2/data/trainClips\\\\02997\\\\2.jpg'] tensor([1., 8., 1., 3.])\n",
      "16 torch.Size([4, 3, 64, 64]) ['C:/Users/saket/Downloads/hw6(2)/Question2/data/trainClips\\\\00050\\\\2.jpg', 'C:/Users/saket/Downloads/hw6(2)/Question2/data/trainClips\\\\06269\\\\1.jpg', 'C:/Users/saket/Downloads/hw6(2)/Question2/data/trainClips\\\\02573\\\\2.jpg', 'C:/Users/saket/Downloads/hw6(2)/Question2/data/trainClips\\\\04137\\\\1.jpg'] tensor([0., 7., 2., 4.])\n",
      "17 torch.Size([4, 3, 64, 64]) ['C:/Users/saket/Downloads/hw6(2)/Question2/data/trainClips\\\\04779\\\\3.jpg', 'C:/Users/saket/Downloads/hw6(2)/Question2/data/trainClips\\\\07130\\\\3.jpg', 'C:/Users/saket/Downloads/hw6(2)/Question2/data/trainClips\\\\03994\\\\3.jpg', 'C:/Users/saket/Downloads/hw6(2)/Question2/data/trainClips\\\\07453\\\\2.jpg'] tensor([5., 8., 4., 9.])\n",
      "18 torch.Size([4, 3, 64, 64]) ['C:/Users/saket/Downloads/hw6(2)/Question2/data/trainClips\\\\04869\\\\2.jpg', 'C:/Users/saket/Downloads/hw6(2)/Question2/data/trainClips\\\\02303\\\\1.jpg', 'C:/Users/saket/Downloads/hw6(2)/Question2/data/trainClips\\\\02529\\\\1.jpg', 'C:/Users/saket/Downloads/hw6(2)/Question2/data/trainClips\\\\06287\\\\1.jpg'] tensor([5., 2., 2., 7.])\n",
      "19 torch.Size([4, 3, 64, 64]) ['C:/Users/saket/Downloads/hw6(2)/Question2/data/trainClips\\\\05908\\\\3.jpg', 'C:/Users/saket/Downloads/hw6(2)/Question2/data/trainClips\\\\05613\\\\3.jpg', 'C:/Users/saket/Downloads/hw6(2)/Question2/data/trainClips\\\\02288\\\\3.jpg', 'C:/Users/saket/Downloads/hw6(2)/Question2/data/trainClips\\\\01249\\\\1.jpg'] tensor([7., 6., 2., 1.])\n",
      "20 torch.Size([4, 3, 64, 64]) ['C:/Users/saket/Downloads/hw6(2)/Question2/data/trainClips\\\\01411\\\\2.jpg', 'C:/Users/saket/Downloads/hw6(2)/Question2/data/trainClips\\\\07531\\\\3.jpg', 'C:/Users/saket/Downloads/hw6(2)/Question2/data/trainClips\\\\02479\\\\1.jpg', 'C:/Users/saket/Downloads/hw6(2)/Question2/data/trainClips\\\\02988\\\\1.jpg'] tensor([1., 9., 2., 3.])\n",
      "21 torch.Size([4, 3, 64, 64]) ['C:/Users/saket/Downloads/hw6(2)/Question2/data/trainClips\\\\02462\\\\3.jpg', 'C:/Users/saket/Downloads/hw6(2)/Question2/data/trainClips\\\\03173\\\\2.jpg', 'C:/Users/saket/Downloads/hw6(2)/Question2/data/trainClips\\\\06969\\\\2.jpg', 'C:/Users/saket/Downloads/hw6(2)/Question2/data/trainClips\\\\00752\\\\1.jpg'] tensor([2., 3., 8., 0.])\n"
     ]
    }
   ],
   "source": [
    "image_dataloader = DataLoader(image_dataset, batch_size=4,\n",
    "                        shuffle=True, num_workers=0)\n",
    "\n",
    "\n",
    "for i,sample in enumerate(image_dataloader):\n",
    "    sample['image']=sample['image']\n",
    "    print(i,sample['image'].shape,sample['img_path'],sample['Label'])\n",
    "    if i>20: \n",
    "        break"
   ]
  },
  {
   "cell_type": "markdown",
   "metadata": {
    "colab_type": "text",
    "id": "XWlY1-Tpkild"
   },
   "source": [
    "Dataloaders for the training, validationg and testing set. "
   ]
  },
  {
   "cell_type": "code",
   "execution_count": 32,
   "metadata": {
    "colab": {},
    "colab_type": "code",
    "id": "88bh4JpKkile"
   },
   "outputs": [],
   "source": [
    "image_dataset_train=ActionDataset(root_dir='C:/Users/saket/Downloads/hw6(2)/Question2/data/trainClips/',labels=label_train,transform=T.ToTensor())\n",
    "\n",
    "image_dataloader_train = DataLoader(image_dataset_train, batch_size=32,\n",
    "                        shuffle=True, num_workers=0)\n",
    "image_dataset_val=ActionDataset(root_dir='C:/Users/saket/Downloads/hw6(2)/Question2/data/valClips/',labels=label_val,transform=T.ToTensor())\n",
    "\n",
    "image_dataloader_val = DataLoader(image_dataset_val, batch_size=32,\n",
    "                        shuffle=False, num_workers=0)\n",
    "image_dataset_test=ActionDataset(root_dir='C:/Users/saket/Downloads/hw6(2)/Question2/data/testClips/',labels=[],transform=T.ToTensor())\n",
    "\n",
    "image_dataloader_test = DataLoader(image_dataset_test, batch_size=32,\n",
    "                        shuffle=False, num_workers=0)"
   ]
  },
  {
   "cell_type": "code",
   "execution_count": 33,
   "metadata": {
    "colab": {},
    "colab_type": "code",
    "id": "NlHfd8Opkili"
   },
   "outputs": [],
   "source": [
    "dtype = torch.FloatTensor # the CPU datatype\n",
    "# Constant to control how frequently we print train loss\n",
    "print_every = 100\n",
    "# This is a little utility that we'll use to reset the model\n",
    "# if we want to re-initialize all our parameters\n",
    "def reset(m):\n",
    "    if hasattr(m, 'reset_parameters'):\n",
    "        m.reset_parameters()"
   ]
  },
  {
   "cell_type": "markdown",
   "metadata": {
    "colab_type": "text",
    "id": "w5Vwl83Lkill"
   },
   "source": [
    "## Example Model\n",
    "\n",
    "### Some assorted tidbits\n",
    "\n",
    "Let's start by looking at a simple model. First, note that PyTorch operates on Tensors, which are n-dimensional arrays functionally analogous to numpy's ndarrays, with the additional feature that they can be used for computations on GPUs.\n",
    "\n",
    "We'll provide you with a Flatten function, which we explain here. Remember that our image data (and more relevantly, our intermediate feature maps) are initially N x C x H x W, where:\n",
    "* N is the number of datapoints\n",
    "* C is the number of image channels. \n",
    "* H is the height of the intermediate feature map in pixels\n",
    "* W is the height of the intermediate feature map in pixels\n",
    "\n",
    "This is the right way to represent the data when we are doing something like a 2D convolution, that needs spatial understanding of where the intermediate features are relative to each other. When we input  data into fully connected affine layers, however, we want each datapoint to be represented by a single vector -- it's no longer useful to segregate the different channels, rows, and columns of the data. So, we use a \"Flatten\" operation to collapse the C x H x W values per representation into a single long vector. The Flatten function below first reads in the N, C, H, and W values from a given batch of data, and then returns a \"view\" of that data. \"View\" is analogous to numpy's \"reshape\" method: it reshapes x's dimensions to be N x ??, where ?? is allowed to be anything (in this case, it will be C x H x W, but we don't need to specify that explicitly). "
   ]
  },
  {
   "cell_type": "code",
   "execution_count": 34,
   "metadata": {
    "colab": {},
    "colab_type": "code",
    "id": "SfjCjTsnkilm"
   },
   "outputs": [],
   "source": [
    "class Flatten(nn.Module):\n",
    "    def forward(self, x):\n",
    "        N, C, H, W = x.size() # read in N, C, H, W\n",
    "        return x.view(N, -1)  # \"flatten\" the C * H * W values into a single vector per image"
   ]
  },
  {
   "cell_type": "markdown",
   "metadata": {
    "colab_type": "text",
    "id": "M0akDg9Zkilp"
   },
   "source": [
    "### The example model itself\n",
    "\n",
    "The first step to training your own model is defining its architecture.\n",
    "\n",
    "Here's an example of a convolutional neural network defined in PyTorch -- try to understand what each line is doing, remembering that each layer is composed upon the previous layer. We haven't trained anything yet - that'll come next - for now, we want you to understand how everything gets set up.  nn.Sequential is a container which applies each layer\n",
    "one after the other.\n",
    "\n",
    "In this example, you see 2D convolutional layers (Conv2d), ReLU activations, and fully-connected layers (Linear). You also see the Cross-Entropy loss function, and the Adam optimizer being used. \n",
    "\n",
    "Make sure you understand why the parameters of the Linear layer are 10092 and 10.\n"
   ]
  },
  {
   "cell_type": "code",
   "execution_count": 35,
   "metadata": {
    "colab": {},
    "colab_type": "code",
    "id": "86Z0XTsZkilq"
   },
   "outputs": [],
   "source": [
    "# Here's where we define the architecture of the model... \n",
    "simple_model = nn.Sequential(\n",
    "                nn.Conv2d(3, 32, kernel_size=7, stride=2),\n",
    "                nn.ReLU(inplace=True),\n",
    "                Flatten(), # see above for explanation\n",
    "                nn.Linear(10092, 10), # affine layer\n",
    "              )\n",
    "\n",
    "# Set the type of all data in this model to be FloatTensor \n",
    "simple_model.type(dtype)\n",
    "\n",
    "loss_fn = nn.CrossEntropyLoss().type(dtype)\n",
    "optimizer = optim.Adam(simple_model.parameters(), lr=1e-2) # lr sets the learning rate of the optimizer"
   ]
  },
  {
   "cell_type": "markdown",
   "metadata": {
    "colab_type": "text",
    "id": "Ewte7dUbkilt"
   },
   "source": [
    "PyTorch supports many other layer types, loss functions, and optimizers - you will experiment with these next. Here's the official API documentation for these (if any of the parameters used above were unclear, this resource will also be helpful). \n",
    "\n",
    "* Layers: http://pytorch.org/docs/nn.html\n",
    "* Activations: http://pytorch.org/docs/nn.html#non-linear-activations\n",
    "* Loss functions: http://pytorch.org/docs/nn.html#loss-functions\n",
    "* Optimizers: http://pytorch.org/docs/optim.html#algorithms"
   ]
  },
  {
   "cell_type": "markdown",
   "metadata": {
    "colab_type": "text",
    "id": "p0l2cX4lkilu"
   },
   "source": [
    "## Training a specific model\n",
    "\n",
    "In this section, we're going to specify a model for you to construct. The goal here isn't to get good performance (that'll be next), but instead to get comfortable with understanding the PyTorch documentation and configuring your own model. \n",
    "\n",
    "Using the code provided above as guidance, and using the following PyTorch documentation, specify a model with the following architecture:\n",
    "\n",
    "* 7x7 Convolutional Layer with 8 filters and stride of 1\n",
    "* ReLU Activation Layer\n",
    "* 2x2 Max Pooling layer with a stride of 2\n",
    "* 7x7 Convolutional Layer with 16 filters and stride of 1\n",
    "* ReLU Activation Layer\n",
    "* 2x2 Max Pooling layer with a stride of 2\n",
    "* Flatten the feature map\n",
    "* ReLU Activation Layer\n",
    "* Affine layer to map input units to 10 outputs, you need to figure out the input size here.\n"
   ]
  },
  {
   "cell_type": "code",
   "execution_count": 36,
   "metadata": {
    "colab": {},
    "colab_type": "code",
    "id": "aQHDD56Tkilv"
   },
   "outputs": [],
   "source": [
    "fixed_model_base = nn.Sequential( \n",
    "    nn.Conv2d(3, 8, kernel_size=7, stride=1),\n",
    "    nn.ReLU(inplace=True),\n",
    "    nn.MaxPool2d(kernel_size=2, stride=2, padding=0),\n",
    "    nn.Conv2d(8, 16, kernel_size=7, stride=1),\n",
    "    nn.ReLU(inplace=True),\n",
    "    nn.MaxPool2d(kernel_size=2, stride=2, padding=0),\n",
    "    Flatten(),\n",
    "    nn.ReLU(inplace=True),\n",
    "    nn.Linear(1936, 10),\n",
    "    #########1st TODO  (5 points)###################\n",
    "   \n",
    "    ####################################\n",
    "            )\n",
    "fixed_model = fixed_model_base.type(dtype)\n",
    "\n"
   ]
  },
  {
   "cell_type": "markdown",
   "metadata": {
    "colab_type": "text",
    "id": "6K1qjzb-kilx"
   },
   "source": [
    "To make sure you're doing the right thing, use the following tool to check the dimensionality of your output (it should be 32 x 10, since our batches have size 32 and the output of the final affine layer should be 10, corresponding to our 10 classes):"
   ]
  },
  {
   "cell_type": "code",
   "execution_count": 37,
   "metadata": {
    "colab": {},
    "colab_type": "code",
    "id": "L029BLMHkily"
   },
   "outputs": [
    {
     "name": "stdout",
     "output_type": "stream",
     "text": [
      "[32 10]\n"
     ]
    },
    {
     "data": {
      "text/plain": [
       "True"
      ]
     },
     "execution_count": 37,
     "metadata": {},
     "output_type": "execute_result"
    }
   ],
   "source": [
    "## Now we're going to feed a random batch into the model you defined and make sure the output is the right size\n",
    "x = torch.randn(32, 3, 64, 64).type(dtype)\n",
    "x_var = Variable(x.type(dtype)) # Construct a PyTorch Variable out of your input data\n",
    "ans = fixed_model(x_var)        # Feed it through the model! \n",
    "\n",
    "# Check to make sure what comes out of your model\n",
    "# is the right dimensionality... this should be True\n",
    "# if you've done everything correctly\n",
    "print(np.array(ans.size()))\n",
    "np.array_equal(np.array(ans.size()), np.array([32, 10]))   \n"
   ]
  },
  {
   "cell_type": "markdown",
   "metadata": {
    "colab_type": "text",
    "id": "dU4ZQyD2kil0"
   },
   "source": [
    "### Train the model.\n",
    "\n",
    "Now that you've seen how to define a model and do a single forward pass of some data through it, let's  walk through how you'd actually train one whole epoch over your training data (using the fixed_model_base we provided above).\n",
    "\n",
    "Make sure you understand how each PyTorch function used below corresponds to what you implemented in your custom neural network implementation.\n",
    "\n",
    "Note that because we are not resetting the weights anywhere below, if you run the cell multiple times, you are effectively training multiple epochs (so your performance should improve).\n",
    "\n",
    "First, set up an RMSprop optimizer (using a 1e-4 learning rate) and a cross-entropy loss function:"
   ]
  },
  {
   "cell_type": "code",
   "execution_count": 38,
   "metadata": {
    "colab": {},
    "colab_type": "code",
    "id": "CL0kHO_Rkil1"
   },
   "outputs": [],
   "source": [
    "################ 2nd TODO  (5 points)##################\n",
    "optimizer = optim.RMSprop(fixed_model.parameters(), lr=1e-4)\n",
    "loss_fn = nn.CrossEntropyLoss().type(dtype)"
   ]
  },
  {
   "cell_type": "code",
   "execution_count": 39,
   "metadata": {
    "colab": {},
    "colab_type": "code",
    "id": "swBi5_QJkil3"
   },
   "outputs": [
    {
     "name": "stdout",
     "output_type": "stream",
     "text": [
      "t = 100, loss = 1.8342\n",
      "t = 200, loss = 1.4459\n",
      "t = 300, loss = 1.4368\n",
      "t = 400, loss = 1.4476\n",
      "t = 500, loss = 1.4655\n",
      "t = 600, loss = 1.1526\n",
      "t = 700, loss = 1.2989\n"
     ]
    }
   ],
   "source": [
    "# This sets the model in \"training\" mode. \n",
    "# This is relevant for some layers that may have different behavior\n",
    "# in training mode vs testing mode, such as Dropout and BatchNorm. \n",
    "fixed_model.train()\n",
    "\n",
    "# Load one batch at a time.\n",
    "for t, sample in enumerate(image_dataloader_train):\n",
    "    x_var = Variable(sample['image'])\n",
    "    #print(type(x_var.data))\n",
    "    #print(x_var.shape)\n",
    "    y_var = Variable(sample['Label']).long()\n",
    "\n",
    "    # This is the forward pass: predict the scores for each class, for each x in the batch.\n",
    "    scores = fixed_model(x_var)\n",
    "    \n",
    "    # Use the correct y values and the predicted y values to compute the loss.\n",
    "    loss = loss_fn(scores, y_var)\n",
    "    \n",
    "    if (t + 1) % print_every == 0:\n",
    "        print('t = %d, loss = %.4f' % (t + 1, loss.data))\n",
    "\n",
    "    # Zero out all of the gradients for the variables which the optimizer will update.\n",
    "    optimizer.zero_grad()\n",
    "    \n",
    "    # This is the backwards pass: compute the gradient of the loss with respect to each \n",
    "    # parameter of the model.\n",
    "    loss.backward()\n",
    "    \n",
    "    # Actually update the parameters of the model using the gradients computed by the backwards pass.\n",
    "    optimizer.step()\n",
    "   "
   ]
  },
  {
   "cell_type": "markdown",
   "metadata": {
    "colab_type": "text",
    "id": "F39GZuPmkimH"
   },
   "source": [
    "Now you've seen how the training process works in PyTorch. To save you writing boilerplate code, we're providing the following helper functions to help you train for multiple epochs and check the accuracy of your model:"
   ]
  },
  {
   "cell_type": "code",
   "execution_count": 42,
   "metadata": {
    "colab": {},
    "colab_type": "code",
    "id": "zkwbyfXwkimJ"
   },
   "outputs": [],
   "source": [
    "def train(model, loss_fn, optimizer, dataloader, num_epochs = 1):\n",
    "    for epoch in range(num_epochs):\n",
    "        print('Starting epoch %d / %d' % (epoch + 1, num_epochs))\n",
    "        model.train()\n",
    "        for t, sample in enumerate(dataloader):\n",
    "            x_var = Variable(sample['image'])\n",
    "            y_var = Variable(sample['Label'].long())\n",
    "\n",
    "            scores = model(x_var)\n",
    "            \n",
    "            loss = loss_fn(scores, y_var)\n",
    "            if (t + 1) % print_every == 0:\n",
    "                print('t = %d, loss = %.4f' % (t + 1, loss.data))\n",
    "\n",
    "            optimizer.zero_grad()\n",
    "            loss.backward()\n",
    "            optimizer.step()\n",
    "\n",
    "def check_accuracy(model, loader):\n",
    "    '''\n",
    "    if loader.dataset.train:\n",
    "        print('Checking accuracy on validation set')\n",
    "    else:\n",
    "        print('Checking accuracy on test set')  \n",
    "    '''\n",
    "    num_correct = 0\n",
    "    num_samples = 0\n",
    "    model.eval() # Put the model in test mode (the opposite of model.train(), essentially)\n",
    "    for t, sample in enumerate(loader):\n",
    "        x_var = Variable(sample['image'])\n",
    "        y_var = sample['Label']\n",
    "        #y_var=y_var.cpu()\n",
    "        scores = model(x_var)\n",
    "        _, preds = scores.data.max(1)#scores.data.cpu().max(1)\n",
    "        #print(preds)\n",
    "        #print(y_var)\n",
    "        num_correct += (preds.numpy() == y_var.numpy()).sum()\n",
    "        num_samples += preds.size(0)\n",
    "    acc = float(num_correct) / num_samples\n",
    "    print('Got %d / %d correct (%.2f)' % (num_correct, num_samples, 100 * acc))\n",
    "    \n",
    "    \n",
    "\n"
   ]
  },
  {
   "cell_type": "markdown",
   "metadata": {
    "colab_type": "text",
    "id": "TgazBdowkimU"
   },
   "source": [
    "### Check the accuracy of the model.\n",
    "\n",
    "Let's see the train and check_accuracy code in action -- feel free to use these methods when evaluating the models you develop below.\n",
    "\n",
    "You should get a training loss of around 1.0-1.2, and a validation accuracy of around 50-60%. As mentioned above, if you re-run the cells, you'll be training more epochs, so your performance will improve past these numbers.\n",
    "\n",
    "But don't worry about getting these numbers better -- this was just practice before you tackle designing your own model."
   ]
  },
  {
   "cell_type": "code",
   "execution_count": 43,
   "metadata": {
    "colab": {},
    "colab_type": "code",
    "id": "e0KVG7cXkimc"
   },
   "outputs": [
    {
     "name": "stdout",
     "output_type": "stream",
     "text": [
      "Starting epoch 1 / 1\n",
      "t = 100, loss = 2.2854\n",
      "t = 200, loss = 2.2392\n",
      "t = 300, loss = 2.0791\n",
      "t = 400, loss = 1.7875\n",
      "t = 500, loss = 1.6970\n",
      "t = 600, loss = 1.4835\n",
      "t = 700, loss = 1.5347\n",
      "Got 11818 / 23310 correct (50.70)\n"
     ]
    }
   ],
   "source": [
    "torch.random.manual_seed(12345)\n",
    "fixed_model.cpu()\n",
    "fixed_model.apply(reset) \n",
    "fixed_model.train() \n",
    "train(fixed_model, loss_fn, optimizer,image_dataloader_train, num_epochs=1) \n",
    "check_accuracy(fixed_model, image_dataloader_train)# check accuracy on the training set\n"
   ]
  },
  {
   "cell_type": "markdown",
   "metadata": {
    "colab_type": "text",
    "id": "xUkUV3uFkimv"
   },
   "source": [
    "### Don't forget the validation set!\n",
    "\n",
    "And note that you can use the check_accuracy function to evaluate on the validation set, by passing **image_dataloader_val** as the second argument to check_accuracy. The accuracy on validation set is arround 40-50%."
   ]
  },
  {
   "cell_type": "code",
   "execution_count": 44,
   "metadata": {
    "colab": {},
    "colab_type": "code",
    "id": "qIPA6RP8kimw"
   },
   "outputs": [
    {
     "name": "stdout",
     "output_type": "stream",
     "text": [
      "Got 2897 / 6690 correct (43.30)\n"
     ]
    }
   ],
   "source": [
    "check_accuracy(fixed_model, image_dataloader_val)#check accuracy on the validation set"
   ]
  },
  {
   "cell_type": "markdown",
   "metadata": {
    "colab_type": "text",
    "id": "0sR_FF3Tkimz"
   },
   "source": [
    "##### Train a better  model for action recognition!\n",
    "\n",
    "Now it's your job to experiment with architectures, hyperparameters, loss functions, and optimizers to train a model that achieves better accuracy on the action recognition **validation** set. You can use the check_accuracy and train functions from above."
   ]
  },
  {
   "cell_type": "markdown",
   "metadata": {
    "colab_type": "text",
    "id": "O6widA8Zkim2"
   },
   "source": [
    "### Things you should try:\n",
    "- **Filter size**: Above we used 7x7; this makes pretty pictures but smaller filters may be more efficient\n",
    "- **Number of filters**: Do more or fewer do better?\n",
    "- **Pooling vs Strided Convolution**: Do you use max pooling or just stride convolutions?\n",
    "- **Batch normalization**: Try adding spatial batch normalization after convolution layers and vanilla batch normalization after affine layers. Do your networks train faster?\n",
    "- **Network architecture**: The network above has two layers of trainable parameters. Can you do better with a deep network? Good architectures to try include:\n",
    "    - [conv-relu-pool]xN -> [affine]xM -> [softmax or SVM]\n",
    "    - [conv-relu-conv-relu-pool]xN -> [affine]xM -> [softmax or SVM]\n",
    "    - [batchnorm-relu-conv]xN -> [affine]xM -> [softmax or SVM]\n",
    "- **Global Average Pooling**: Instead of flattening and then having multiple affine layers, perform convolutions until your image gets small (7x7 or so) and then perform an average pooling operation to get to a 1x1 image picture (1, 1 , Filter#), which is then reshaped into a (Filter#) vector. This is used in [Google's Inception Network](https://arxiv.org/abs/1512.00567) (See Table 1 for their architecture).\n",
    "- **Regularization**: Add l2 weight regularization, or perhaps use Dropout.\n",
    "\n",
    "### Tips for training\n",
    "For each network architecture that you try, you should tune the learning rate and regularization strength. When doing this there are a couple important things to keep in mind:\n",
    "\n",
    "- If the parameters are working well, you should see improvement within a few hundred iterations\n",
    "- Remember the coarse-to-fine approach for hyperparameter tuning: start by testing a large range of hyperparameters for just a few training iterations to find the combinations of parameters that are working at all.\n",
    "- Once you have found some sets of parameters that seem to work, search more finely around these parameters. You may need to train for more epochs.\n",
    "- You should use the validation set for hyperparameter search, and save your test set for evaluating your architecture on the best parameters as selected by the validation set.\n",
    "\n",
    "### Going above and beyond\n",
    "If you are feeling adventurous there are many other features you can implement to try and improve your performance. You are **not required** to implement any of these; however they would be good things to try.\n",
    "\n",
    "- Alternative update steps: For the assignment we implemented SGD+momentum, RMSprop, and Adam; you could try alternatives like AdaGrad or AdaDelta.\n",
    "- Alternative activation functions such as leaky ReLU, parametric ReLU, ELU, or MaxOut.\n",
    "- Model ensembles\n",
    "- Data augmentation\n",
    "- New Architectures\n",
    "  - [ResNets](https://arxiv.org/abs/1512.03385) where the input from the previous layer is added to the output.\n",
    "  - [DenseNets](https://arxiv.org/abs/1608.06993) where inputs into previous layers are concatenated together.\n",
    "  - [This blog has an in-depth overview](https://chatbotslife.com/resnets-highwaynets-and-densenets-oh-my-9bb15918ee32)\n",
    "\n",
    "If you do decide to implement something extra, clearly describe it in the \"Extra Credit Description\" cell below.\n",
    "\n",
    "### What we expect\n",
    "At the very least, you should be able to train a ConvNet that gets at least 55% accuracy on the validation set. This is just a lower bound - if you are careful it should be possible to get accuracies much higher than that! Extra credit points will be awarded for particularly high-scoring models or unique approaches.\n",
    "\n",
    "You should use the space below to experiment and train your network. \n",
    "\n"
   ]
  },
  {
   "cell_type": "code",
   "execution_count": 70,
   "metadata": {
    "colab": {},
    "colab_type": "code",
    "id": "EkBshPcykim3"
   },
   "outputs": [
    {
     "name": "stdout",
     "output_type": "stream",
     "text": [
      "Starting epoch 1 / 10\n",
      "t = 100, loss = 1.6637\n",
      "t = 200, loss = 1.5721\n",
      "t = 300, loss = 1.2130\n",
      "t = 400, loss = 0.9858\n",
      "t = 500, loss = 0.9114\n",
      "t = 600, loss = 0.9258\n",
      "t = 700, loss = 0.7033\n",
      "Starting epoch 2 / 10\n",
      "t = 100, loss = 0.4025\n",
      "t = 200, loss = 0.5635\n",
      "t = 300, loss = 0.4335\n",
      "t = 400, loss = 0.4033\n",
      "t = 500, loss = 0.3178\n",
      "t = 600, loss = 0.3923\n",
      "t = 700, loss = 0.4460\n",
      "Starting epoch 3 / 10\n",
      "t = 100, loss = 0.2384\n",
      "t = 200, loss = 0.4318\n",
      "t = 300, loss = 0.2018\n",
      "t = 400, loss = 0.4043\n",
      "t = 500, loss = 0.2404\n",
      "t = 600, loss = 0.2086\n",
      "t = 700, loss = 0.3902\n",
      "Starting epoch 4 / 10\n",
      "t = 100, loss = 0.2279\n",
      "t = 200, loss = 0.3595\n",
      "t = 300, loss = 0.2318\n",
      "t = 400, loss = 0.1553\n",
      "t = 500, loss = 0.0998\n",
      "t = 600, loss = 0.2139\n",
      "t = 700, loss = 0.2251\n",
      "Starting epoch 5 / 10\n",
      "t = 100, loss = 0.1020\n",
      "t = 200, loss = 0.0635\n",
      "t = 300, loss = 0.1505\n",
      "t = 400, loss = 0.1570\n",
      "t = 500, loss = 0.1778\n",
      "t = 600, loss = 0.0708\n",
      "t = 700, loss = 0.0752\n",
      "Starting epoch 6 / 10\n",
      "t = 100, loss = 0.1740\n",
      "t = 200, loss = 0.2563\n",
      "t = 300, loss = 0.1972\n",
      "t = 400, loss = 0.1170\n",
      "t = 500, loss = 0.1053\n",
      "t = 600, loss = 0.1394\n",
      "t = 700, loss = 0.0965\n",
      "Starting epoch 7 / 10\n",
      "t = 100, loss = 0.1901\n",
      "t = 200, loss = 0.1514\n",
      "t = 300, loss = 0.0911\n",
      "t = 400, loss = 0.0183\n",
      "t = 500, loss = 0.1140\n",
      "t = 600, loss = 0.1532\n",
      "t = 700, loss = 0.1141\n",
      "Starting epoch 8 / 10\n",
      "t = 100, loss = 0.0632\n",
      "t = 200, loss = 0.1611\n",
      "t = 300, loss = 0.0814\n",
      "t = 400, loss = 0.2869\n",
      "t = 500, loss = 0.0858\n",
      "t = 600, loss = 0.0190\n",
      "t = 700, loss = 0.0781\n",
      "Starting epoch 9 / 10\n",
      "t = 100, loss = 0.0517\n",
      "t = 200, loss = 0.0510\n",
      "t = 300, loss = 0.0565\n",
      "t = 400, loss = 0.0532\n",
      "t = 500, loss = 0.0828\n",
      "t = 600, loss = 0.2838\n",
      "t = 700, loss = 0.0359\n",
      "Starting epoch 10 / 10\n",
      "t = 100, loss = 0.0355\n",
      "t = 200, loss = 0.0521\n",
      "t = 300, loss = 0.0113\n",
      "t = 400, loss = 0.0315\n",
      "t = 500, loss = 0.0286\n",
      "t = 600, loss = 0.0243\n",
      "t = 700, loss = 0.1831\n",
      "Train Accuracy: \n",
      "Got 23105 / 23310 correct (99.12)\n",
      "CV Accuracy: \n",
      "Got 4036 / 6690 correct (60.33)\n"
     ]
    }
   ],
   "source": [
    "###########3rd TODO (6 points, must submit the results to Kaggle) ##############\n",
    "# Train your model here, and make sure the output of this cell is the accuracy of your best model on the \n",
    "# train, val, and test sets. Here's some code to get you started. The output of this cell should be the training\n",
    "# and validation accuracy on your best model (measured by validation accuracy).\n",
    "# class Model(nn.Module):\n",
    "#     def __init__(self):\n",
    "#         super(Model,self).__init__()\n",
    "#         self.net = nn. Sequential(\n",
    "#                 nn.Conv2d(3, 8, kernel_size=3, stride=1),\n",
    "#                 nn.ReLU(inplace=True),\n",
    "#                 nn.BatchNorm2d(8),\n",
    "#                 nn.MaxPool2d(kernel_size=2, stride=2, padding=0),\n",
    "\n",
    "#                 nn.Conv2d(8, 16, kernel_size=3, stride=1),\n",
    "#                 nn.ReLU(inplace=True),\n",
    "#                 nn.BatchNorm2d(16),\n",
    "#                 nn.MaxPool2d(kernel_size=2, stride=2, padding=0),\n",
    "\n",
    "#                 nn.Conv2d(16, 32,kernel_size = 3, stride = 1),\n",
    "#                 nn.ReLU(inplace=True),\n",
    "#                 nn.BatchNorm2d(32),\n",
    "#                 nn.MaxPool2d(kernel_size=2, stride=2, padding=0),\n",
    "\n",
    "#                 Flatten(),\n",
    "#                 nn.ReLU(inplace=True),\n",
    "#                 nn.Dropout2d(p = 0.2),\n",
    "#                 nn.Linear(1152, 100),\n",
    "#                 nn.Dropout2d(p = 0.2),\n",
    "#                 nn.Linear(100,10)\n",
    "#         )\n",
    "#     def forward(self, x):\n",
    "#         for layer in self.net:\n",
    "#             print(layer)\n",
    "#             x = layer(x)\n",
    "#             print(x.size())\n",
    "#         return x\n",
    "    \n",
    "train_model = nn.Sequential( \n",
    "    nn.Conv2d(3, 8, kernel_size=5, stride=1),\n",
    "    nn.ReLU(inplace=True),\n",
    "    nn.BatchNorm2d(8),\n",
    "    nn.MaxPool2d(kernel_size=2, stride=2, padding=0),\n",
    "    \n",
    "    nn.Conv2d(8, 16, kernel_size=5, stride=1),\n",
    "    nn.ReLU(inplace=True),\n",
    "    nn.BatchNorm2d(16),\n",
    "    nn.MaxPool2d(kernel_size=2, stride=2, padding=0),\n",
    "    \n",
    "    nn.Conv2d(16, 32,kernel_size = 5, stride = 1),\n",
    "    nn.ReLU(inplace=True),\n",
    "    nn.BatchNorm2d(32),\n",
    "    nn.MaxPool2d(kernel_size=2, stride=2, padding=0),\n",
    "\n",
    "    Flatten(),\n",
    "    nn.ReLU(inplace=True),\n",
    "    nn.Dropout2d(p = 0.2),\n",
    "    nn.Linear(512, 64),\n",
    "    nn.Dropout2d(p = 0.2),\n",
    "    nn.Linear(64,10)\n",
    "            )\n",
    "\n",
    "model = train_model.type(dtype)\n",
    "loss_fn = nn.CrossEntropyLoss().type(dtype)\n",
    "optimizer = optim.Adam(model.parameters(), lr=1e-4)\n",
    "\n",
    "# model = Model()\n",
    "# x = torch.randn(32, 3, 64, 64)\n",
    "# model(x)\n",
    "\n",
    "train(model, loss_fn, optimizer,image_dataloader_train, num_epochs=10)\n",
    "print('Train Accuracy: ')\n",
    "check_accuracy(model, image_dataloader_train)\n",
    "print('CV Accuracy: ')\n",
    "check_accuracy(model, image_dataloader_val)"
   ]
  },
  {
   "cell_type": "markdown",
   "metadata": {
    "colab_type": "text",
    "id": "Jsq5u4ZXkim6"
   },
   "source": [
    "### Describe what you did \n",
    "\n",
    "In the cell below you should write an explanation of what you did, any additional features that you implemented, and any visualizations or graphs that you make in the process of training and evaluating your network."
   ]
  },
  {
   "cell_type": "markdown",
   "metadata": {
    "colab_type": "text",
    "id": "5BorliZPkim6"
   },
   "source": [
    "Tell us here!\n",
    "###########4th TODO (4 points) ##############\n",
    "\n",
    "1) I used 3 convolutional layers instead of 2 and this increased my training and validation accuracies.\n",
    "\n",
    "2) I decreased the kernel size from 7 to 5 in the convolutional layers and this proved to be useful as my training loss was decreasing much more steadily.\n",
    "\n",
    "3) I found that Adam Optimizer worked very well as compared to SGD and the cross entropy loss was the best loss function to use for this network.\n",
    "\n",
    "4) In addition, I found ReLU to be much better than leaky ReLU in terms of validation accuracy.\n",
    "\n",
    "5) After the convoultional layers, adding linear layers helped increase my accuracy further and create my best model."
   ]
  },
  {
   "cell_type": "markdown",
   "metadata": {
    "colab_type": "text",
    "id": "OEGCO0mGkim7"
   },
   "source": [
    "### Testing the model and submit on Kaggle\n",
    "Testing the model on the testing set and save the results as a .csv file. \n",
    "Please submitted the results.csv file generated by predict_on_test() to Kaggle(https://www.kaggle.com/c/cse512springhw3) to see how well your network performs on the test set. \n",
    "#######5th TODO (submit the result to Kaggle, the highest 3 entries get extra 10 points )###############"
   ]
  },
  {
   "cell_type": "code",
   "execution_count": 78,
   "metadata": {
    "colab": {},
    "colab_type": "code",
    "id": "fG49zJzdkim8"
   },
   "outputs": [
    {
     "name": "stdout",
     "output_type": "stream",
     "text": [
      "9810\n"
     ]
    }
   ],
   "source": [
    "def predict_on_test(model, loader):\n",
    "    '''\n",
    "    if loader.dataset.train:\n",
    "        print('Checking accuracy on validation set')\n",
    "    else:\n",
    "        print('Checking accuracy on test set')  \n",
    "    '''\n",
    "    num_correct = 0\n",
    "    num_samples = 0\n",
    "    model.eval() # Put the model in test mode (the opposite of model.train(), essentially)\n",
    "    results=open('results2.csv','w')\n",
    "    count=0\n",
    "    results.write('Id'+','+'Class'+'\\n')\n",
    "    for t, sample in enumerate(loader):\n",
    "        x_var = Variable(sample['image'])\n",
    "        scores = model(x_var)\n",
    "        _, preds = scores.data.max(1)\n",
    "        for i in range(len(preds)):\n",
    "            results.write(str(count)+','+str(preds[i].item())+'\\n')\n",
    "            count+=1\n",
    "    results.close()\n",
    "    return count\n",
    "    \n",
    "count = predict_on_test(model, image_dataloader_test)\n",
    "print(count)"
   ]
  },
  {
   "cell_type": "markdown",
   "metadata": {
    "colab_type": "text",
    "id": "gojKr6H0kinD"
   },
   "source": [
    "### GPU! (This part is optional, 0 points)\n",
    "\n",
    "If you have access to GPU, you can make the code run on GPU, it would be much faster. \n",
    "\n",
    "Now, we're going to switch the dtype of the model and our data to the GPU-friendly tensors, and see what happens... everything is the same, except we are casting our model and input tensors as this new dtype instead of the old one.\n",
    "\n",
    "If this returns false, or otherwise fails in a not-graceful way (i.e., with some error message), you may not have an NVIDIA GPU available on your machine. "
   ]
  },
  {
   "cell_type": "code",
   "execution_count": 0,
   "metadata": {
    "colab": {},
    "colab_type": "code",
    "collapsed": true,
    "id": "nx_8-bDUkinE"
   },
   "outputs": [],
   "source": [
    "# Verify that CUDA is properly configured and you have a GPU available\n",
    "\n",
    "torch.cuda.is_available()"
   ]
  },
  {
   "cell_type": "code",
   "execution_count": 0,
   "metadata": {
    "colab": {},
    "colab_type": "code",
    "collapsed": true,
    "id": "qd19oDZzkinG"
   },
   "outputs": [],
   "source": [
    "import copy\n",
    "gpu_dtype = torch.cuda.FloatTensor\n",
    "\n",
    "fixed_model_gpu = copy.deepcopy(fixed_model_base)#.type(gpu_dtype)\n",
    "fixed_model_gpu.cuda()\n",
    "x_gpu = torch.randn(4, 3, 64, 64).cuda()#.type(gpu_dtype)\n",
    "x_var_gpu = Variable(x_gpu)#type(gpu_dtype)) # Construct a PyTorch Variable out of your input data\n",
    "ans = fixed_model_gpu(x_var_gpu)        # Feed it through the model! \n",
    "\n",
    "# Check to make sure what comes out of your model\n",
    "# is the right dimensionality... this should be True\n",
    "# if you've done everything correctly\n",
    "np.array_equal(np.array(ans.size()), np.array([4, 10]))\n"
   ]
  },
  {
   "cell_type": "markdown",
   "metadata": {
    "colab_type": "text",
    "id": "Q4gsqJpakinJ"
   },
   "source": [
    "Run the following cell to evaluate the performance of the forward pass running on the CPU:"
   ]
  },
  {
   "cell_type": "code",
   "execution_count": 0,
   "metadata": {
    "colab": {},
    "colab_type": "code",
    "collapsed": true,
    "id": "M9RH8SlYkinK"
   },
   "outputs": [],
   "source": [
    "%%timeit \n",
    "ans = fixed_model(x_var)"
   ]
  },
  {
   "cell_type": "markdown",
   "metadata": {
    "colab_type": "text",
    "id": "mS9ZHu5ikinM"
   },
   "source": [
    "... and now the GPU:"
   ]
  },
  {
   "cell_type": "code",
   "execution_count": 0,
   "metadata": {
    "colab": {},
    "colab_type": "code",
    "collapsed": true,
    "id": "CXo7XPCykinN"
   },
   "outputs": [],
   "source": [
    "%%timeit \n",
    "torch.cuda.synchronize() # Make sure there are no pending GPU computations\n",
    "ans = fixed_model_gpu(x_var_gpu)        # Feed it through the model! \n",
    "torch.cuda.synchronize() # Make sure there are no pending GPU computations"
   ]
  },
  {
   "cell_type": "markdown",
   "metadata": {
    "colab_type": "text",
    "id": "pHvTgcdykinQ"
   },
   "source": [
    "You should observe that even a simple forward pass like this is significantly faster on the GPU. So for the rest of the assignment (and when you go train your models in assignment 3 and your project!), you should use the GPU datatype for your model and your tensors: as a reminder that is *torch.cuda.FloatTensor* (in our notebook here as *gpu_dtype*)"
   ]
  },
  {
   "cell_type": "markdown",
   "metadata": {
    "colab_type": "text",
    "id": "xCVe55-wkinR"
   },
   "source": [
    "Let's make the loss function and training variables to GPU friendly format by '.cuda()'"
   ]
  },
  {
   "cell_type": "code",
   "execution_count": 0,
   "metadata": {
    "colab": {},
    "colab_type": "code",
    "collapsed": true,
    "id": "A6cZOqNhkinS"
   },
   "outputs": [],
   "source": [
    "loss_fn = nn.CrossEntropyLoss().cuda()\n",
    "optimizer = optim.RMSprop(fixed_model_gpu.parameters(), lr=1e-4)"
   ]
  },
  {
   "cell_type": "code",
   "execution_count": 0,
   "metadata": {
    "colab": {},
    "colab_type": "code",
    "collapsed": true,
    "id": "xrW8_ZHCkinU"
   },
   "outputs": [],
   "source": [
    "def train(model, loss_fn, optimizer, dataloader, num_epochs = 1):\n",
    "    for epoch in range(num_epochs):\n",
    "        print('Starting epoch %d / %d' % (epoch + 1, num_epochs))\n",
    "        model.train()\n",
    "        for t, sample in enumerate(dataloader):\n",
    "            x_var = Variable(sample['image'].cuda())\n",
    "            y_var = Variable(sample['Label'].cuda().long())\n",
    "\n",
    "            scores = model(x_var)\n",
    "            \n",
    "            loss = loss_fn(scores, y_var)\n",
    "            if (t + 1) % print_every == 0:\n",
    "                print('t = %d, loss = %.4f' % (t + 1, loss.data[0]))\n",
    "\n",
    "            optimizer.zero_grad()\n",
    "            loss.backward()\n",
    "            optimizer.step()\n",
    "\n",
    "def check_accuracy(model, loader):\n",
    "    '''\n",
    "    if loader.dataset.train:\n",
    "        print('Checking accuracy on validation set')\n",
    "    else:\n",
    "        print('Checking accuracy on test set')  \n",
    "    '''\n",
    "    num_correct = 0\n",
    "    num_samples = 0\n",
    "    model.eval() # Put the model in test mode (the opposite of model.train(), essentially)\n",
    "    for t, sample in enumerate(loader):\n",
    "        x_var = Variable(sample['image'].cuda())\n",
    "        y_var = sample['Label'].cuda()\n",
    "        y_var=y_var.cpu()\n",
    "        scores = model(x_var)\n",
    "        _, preds = scores.data.cpu().max(1)\n",
    "        #print(preds)\n",
    "        #print(y_var)\n",
    "        num_correct += (preds.numpy() == y_var.numpy()).sum()\n",
    "        num_samples += preds.size(0)\n",
    "    acc = float(num_correct) / num_samples\n",
    "    print('Got %d / %d correct (%.2f)' % (num_correct, num_samples, 100 * acc))"
   ]
  },
  {
   "cell_type": "markdown",
   "metadata": {
    "colab_type": "text",
    "id": "4iqg6gwCkinW"
   },
   "source": [
    "Run on GPU!"
   ]
  },
  {
   "cell_type": "code",
   "execution_count": 0,
   "metadata": {
    "colab": {},
    "colab_type": "code",
    "collapsed": true,
    "id": "4XU96uDgkinX"
   },
   "outputs": [],
   "source": [
    "torch.cuda.random.manual_seed(12345)\n",
    "\n",
    "fixed_model_gpu.apply(reset) \n",
    "fixed_model_gpu.train() \n",
    "train(fixed_model_gpu, loss_fn, optimizer,image_dataloader_train, num_epochs=1) \n",
    "check_accuracy(fixed_model_gpu, image_dataloader_train)# check accuracy on the training set\n"
   ]
  },
  {
   "cell_type": "markdown",
   "metadata": {
    "colab_type": "text",
    "id": "jC4jmL_Fkina"
   },
   "source": [
    "### 3D Convolution on video clips (15 points+10 extra points)\n",
    "3D convolution is for videos, it has one more dimension than 2d convolution. You can find the document for 3D convolution here http://pytorch.org/docs/master/nn.html#torch.nn.Conv3dIn. In our dataset, each clip is a video of 3 frames. Lets classify the each clip rather than each image using 3D convolution.\n",
    "We offer the data loader, the train_3d and check_accuracy"
   ]
  },
  {
   "cell_type": "code",
   "execution_count": 79,
   "metadata": {
    "colab": {},
    "colab_type": "code",
    "id": "7Wllmp4Nkinb"
   },
   "outputs": [
    {
     "name": "stdout",
     "output_type": "stream",
     "text": [
      "torch.Size([3, 3, 64, 64])\n",
      "0.0\n",
      "00001\n",
      "torch.Size([3, 3, 64, 64])\n",
      "0.0\n",
      "00002\n",
      "torch.Size([3, 3, 64, 64])\n",
      "0.0\n",
      "00003\n",
      "torch.Size([3, 3, 64, 64])\n",
      "0.0\n",
      "00004\n",
      "torch.Size([3, 3, 64, 64])\n",
      "0.0\n",
      "00005\n",
      "torch.Size([3, 3, 64, 64])\n",
      "0.0\n",
      "00006\n",
      "torch.Size([3, 3, 64, 64])\n",
      "0.0\n",
      "00007\n",
      "torch.Size([3, 3, 64, 64])\n",
      "0.0\n",
      "00008\n",
      "torch.Size([3, 3, 64, 64])\n",
      "0.0\n",
      "00009\n",
      "torch.Size([3, 3, 64, 64])\n",
      "0.0\n",
      "00010\n"
     ]
    }
   ],
   "source": [
    "class ActionClipDataset(Dataset):\n",
    "    \"\"\"Action Landmarks dataset.\"\"\"\n",
    "\n",
    "    def __init__(self,  root_dir,labels=[], transform=None):\n",
    "        \"\"\"\n",
    "        Args:\n",
    "            csv_file (string): Path to the csv file with annotations.\n",
    "            root_dir (string): Directory with all the images.\n",
    "            transform (callable, optional): Optional transform to be applied\n",
    "                on a sample.\n",
    "        \"\"\"\n",
    "        \n",
    "        self.root_dir = root_dir\n",
    "        self.transform = transform\n",
    "        self.length=len(os.listdir(self.root_dir))\n",
    "        self.labels=labels\n",
    "\n",
    "    def __len__(self):\n",
    "        return self.length\n",
    "\n",
    "    def __getitem__(self, idx):\n",
    "        \n",
    "        folder=idx+1\n",
    "        folder=format(folder,'05d')\n",
    "        clip=[]\n",
    "        if len(self.labels)!=0:\n",
    "            Label=self.labels[idx][0]-1\n",
    "        for i in range(3):\n",
    "            imidx=i+1\n",
    "            imgname=str(imidx)+'.jpg'\n",
    "            img_path = os.path.join(self.root_dir,\n",
    "                                    folder,imgname)\n",
    "            image = Image.open(img_path)\n",
    "            image=np.array(image)\n",
    "            clip.append(image)\n",
    "        if self.transform:\n",
    "            clip=np.asarray(clip)\n",
    "            clip=np.transpose(clip, (0,3,1,2))\n",
    "            clip = torch.from_numpy(np.asarray(clip))\n",
    "        if len(self.labels)!=0:\n",
    "            sample={'clip':clip,'Label':Label,'folder':folder}\n",
    "        else:\n",
    "            sample={'clip':clip,'folder':folder}\n",
    "        return sample\n",
    "\n",
    "clip_dataset=ActionClipDataset(root_dir='C:/Users/saket/Downloads/hw6(2)/Question2/data/trainClips/',\\\n",
    "                               labels=label_train,transform=T.ToTensor())#/home/tqvinh/Study/CSE512/cse512-s18/hw2data/trainClips/\n",
    "for i in range(10):\n",
    "    sample=clip_dataset[i]\n",
    "    print(sample['clip'].shape)\n",
    "    print(sample['Label'])\n",
    "    print(sample['folder'])"
   ]
  },
  {
   "cell_type": "code",
   "execution_count": 80,
   "metadata": {
    "colab": {},
    "colab_type": "code",
    "id": "XJBf8xpOkind"
   },
   "outputs": [
    {
     "name": "stdout",
     "output_type": "stream",
     "text": [
      "0 torch.Size([4, 3, 3, 64, 64]) ['06945', '00931', '03802', '02427'] tensor([8., 1., 4., 2.])\n",
      "1 torch.Size([4, 3, 3, 64, 64]) ['02714', '05288', '00215', '03544'] tensor([3., 6., 0., 4.])\n",
      "2 torch.Size([4, 3, 3, 64, 64]) ['01578', '05844', '06647', '07399'] tensor([1., 7., 8., 9.])\n",
      "3 torch.Size([4, 3, 3, 64, 64]) ['06015', '01056', '07530', '06865'] tensor([7., 1., 9., 8.])\n",
      "4 torch.Size([4, 3, 3, 64, 64]) ['05620', '04153', '00279', '04673'] tensor([6., 4., 0., 5.])\n",
      "5 torch.Size([4, 3, 3, 64, 64]) ['07664', '06625', '01884', '04674'] tensor([9., 8., 2., 5.])\n",
      "6 torch.Size([4, 3, 3, 64, 64]) ['06318', '07523', '07004', '06128'] tensor([7., 9., 8., 7.])\n",
      "7 torch.Size([4, 3, 3, 64, 64]) ['02192', '00647', '00280', '00777'] tensor([2., 0., 0., 0.])\n",
      "8 torch.Size([4, 3, 3, 64, 64]) ['00921', '02827', '05033', '07409'] tensor([1., 3., 6., 9.])\n",
      "9 torch.Size([4, 3, 3, 64, 64]) ['02233', '07139', '05546', '00015'] tensor([2., 9., 6., 0.])\n",
      "10 torch.Size([4, 3, 3, 64, 64]) ['04021', '00989', '02318', '07595'] tensor([4., 1., 2., 9.])\n",
      "11 torch.Size([4, 3, 3, 64, 64]) ['03664', '06971', '01899', '04611'] tensor([4., 8., 2., 5.])\n",
      "12 torch.Size([4, 3, 3, 64, 64]) ['02473', '04873', '00904', '06072'] tensor([2., 5., 0., 7.])\n",
      "13 torch.Size([4, 3, 3, 64, 64]) ['04599', '02623', '05578', '06438'] tensor([5., 2., 6., 7.])\n",
      "14 torch.Size([4, 3, 3, 64, 64]) ['04407', '03188', '01661', '07723'] tensor([5., 3., 1., 9.])\n",
      "15 torch.Size([4, 3, 3, 64, 64]) ['01743', '01107', '04252', '04559'] tensor([1., 1., 5., 5.])\n",
      "16 torch.Size([4, 3, 3, 64, 64]) ['04373', '04656', '07528', '04323'] tensor([5., 5., 9., 5.])\n",
      "17 torch.Size([4, 3, 3, 64, 64]) ['05157', '07049', '07306', '00658'] tensor([6., 8., 9., 0.])\n",
      "18 torch.Size([4, 3, 3, 64, 64]) ['03626', '03140', '01727', '05671'] tensor([4., 3., 1., 7.])\n",
      "19 torch.Size([4, 3, 3, 64, 64]) ['00828', '04582', '01464', '05817'] tensor([0., 5., 1., 7.])\n",
      "20 torch.Size([4, 3, 3, 64, 64]) ['06335', '04168', '02085', '05809'] tensor([7., 4., 2., 7.])\n",
      "21 torch.Size([4, 3, 3, 64, 64]) ['04478', '06216', '00997', '06691'] tensor([5., 7., 1., 8.])\n"
     ]
    }
   ],
   "source": [
    "clip_dataloader = DataLoader(clip_dataset, batch_size=4,\n",
    "                        shuffle=True, num_workers=0)\n",
    "\n",
    "\n",
    "for i,sample in enumerate(clip_dataloader):\n",
    "    print(i,sample['clip'].shape,sample['folder'],sample['Label'])\n",
    "    if i>20: \n",
    "        break"
   ]
  },
  {
   "cell_type": "code",
   "execution_count": 81,
   "metadata": {
    "colab": {},
    "colab_type": "code",
    "id": "2SylcAPWkinh"
   },
   "outputs": [],
   "source": [
    "clip_dataset_train=ActionClipDataset(root_dir='C:/Users/saket/Downloads/hw6(2)/Question2/data/trainClips/',labels=label_train,transform=T.ToTensor())\n",
    "\n",
    "clip_dataloader_train = DataLoader(clip_dataset_train, batch_size=16,\n",
    "                        shuffle=True, num_workers=0)\n",
    "clip_dataset_val=ActionClipDataset(root_dir='C:/Users/saket/Downloads/hw6(2)/Question2/data/valClips/',labels=label_val,transform=T.ToTensor())\n",
    "\n",
    "clip_dataloader_val = DataLoader(clip_dataset_val, batch_size=16,\n",
    "                        shuffle=True, num_workers=0)\n",
    "clip_dataset_test=ActionClipDataset(root_dir='C:/Users/saket/Downloads/hw6(2)/Question2/data/testClips/',labels=[],transform=T.ToTensor())\n",
    "\n",
    "clip_dataloader_test = DataLoader(clip_dataset_test, batch_size=16,\n",
    "                        shuffle=False, num_workers=0)"
   ]
  },
  {
   "cell_type": "markdown",
   "metadata": {
    "colab_type": "text",
    "id": "2-p7djQlkinl"
   },
   "source": [
    "Write the Flatten for 3d covolution feature maps."
   ]
  },
  {
   "cell_type": "code",
   "execution_count": 82,
   "metadata": {
    "colab": {},
    "colab_type": "code",
    "id": "0QONO_BMkinm"
   },
   "outputs": [],
   "source": [
    "class Flatten3d(nn.Module):\n",
    "    def forward(self, x):\n",
    "        ###############6th TODO (3 points)###################\n",
    "        N, C, D, H, W = x.size()\n",
    "        return x.view(N, -1)\n",
    "        "
   ]
  },
  {
   "cell_type": "markdown",
   "metadata": {
    "colab_type": "text",
    "id": "wKlUOJwhkino"
   },
   "source": [
    "Design a network using 3D convolution on videos for video classification."
   ]
  },
  {
   "cell_type": "code",
   "execution_count": 85,
   "metadata": {
    "colab": {},
    "colab_type": "code",
    "id": "h6lZTN5Ckinp"
   },
   "outputs": [
    {
     "data": {
      "text/plain": [
       "True"
      ]
     },
     "execution_count": 85,
     "metadata": {},
     "output_type": "execute_result"
    }
   ],
   "source": [
    "fixed_model_3d = nn.Sequential( # You fill this in!\n",
    "    ###############7th TODO (8 points)#########################\n",
    "    nn.Conv3d(3, 16, kernel_size=(1,3,3), stride=1),\n",
    "    nn.ReLU(inplace=True),\n",
    "    nn.BatchNorm3d(16),\n",
    "    \n",
    "    nn.Conv3d(16, 32, kernel_size= (1,3,3), stride=1),\n",
    "    nn.ReLU(inplace=True),\n",
    "    nn.BatchNorm3d(32),\n",
    "    nn.MaxPool3d(kernel_size=(1,2,2), stride=(1,2,2), padding=0),\n",
    "    \n",
    "    nn.Conv3d(32, 64, kernel_size=(1,3,3), stride=1),\n",
    "    nn.ReLU(inplace=True),\n",
    "    nn.BatchNorm3d(64),\n",
    "    nn.MaxPool3d(kernel_size=(1,2,2), stride=(1,2,2), padding=0),\n",
    "    \n",
    "    Flatten3d(), \n",
    "    nn.ReLU(inplace=True),\n",
    "    nn.Dropout3d(p=0.2),\n",
    "    nn.Linear(37632, 1024), \n",
    "    nn.Dropout3d(p=0.2),\n",
    "    nn.Linear(1024, 256),\n",
    "    nn.Dropout3d(p=0.2),\n",
    "    nn.Linear(256, 10)\n",
    "    \n",
    ")\n",
    "\n",
    "fixed_model_3d = fixed_model_3d.type(dtype)\n",
    "x = torch.randn(32,3, 3, 64, 64).type(dtype)\n",
    "x_var = Variable(x).type(dtype) # Construct a PyTorch Variable out of your input data\n",
    "ans = fixed_model_3d(x_var) \n",
    "np.array_equal(np.array(ans.size()), np.array([32, 10]))\n"
   ]
  },
  {
   "cell_type": "markdown",
   "metadata": {
    "colab_type": "text",
    "id": "ZF0h635Rkins"
   },
   "source": [
    "### Describe what you did (4 points)\n",
    "\n",
    "In the cell below you should write an explanation of what you did, any additional features that you implemented, and any visualizations or graphs that you make in the process of training and evaluating your network."
   ]
  },
  {
   "cell_type": "markdown",
   "metadata": {},
   "source": [
    "For my neural network I added the following layers:\n",
    "\n",
    "1) I added 3  3D-Convolutional layers with kernel size of (1,3,3), with each one followed by a ReLU and Batch Normalization.\n",
    "\n",
    "2) I realized that adding batch normalization siginificantly improved my training loss and hence, the training and validation accuracy as well.\n",
    "\n",
    "3) Once again, I observed that ReLU worked better than Leaky ReLU for my network so i proceeded to use this.\n",
    "\n",
    "4) After the MaxPool Layers, I used 3 linear layers to map the final output class size. Between each linear layer, I added a dropout layer and played with the p values to find that 0.2 was the value giving me the best results in terms of validation accuracy.\n",
    "\n",
    "5) I found that increasing the number of convolutional layers and further decreasing the kernel size improved my training and validation accuracies significantly. "
   ]
  },
  {
   "cell_type": "markdown",
   "metadata": {
    "colab_type": "text",
    "id": "2dc0X3Cmkint"
   },
   "source": [
    "### 8th TODO Tell us here:"
   ]
  },
  {
   "cell_type": "code",
   "execution_count": 86,
   "metadata": {
    "colab": {},
    "colab_type": "code",
    "id": "dnJsH-Fokinu"
   },
   "outputs": [],
   "source": [
    "loss_fn = nn.CrossEntropyLoss().type(dtype)\n",
    "optimizer = optim.RMSprop(fixed_model_3d.parameters(), lr=1e-4)"
   ]
  },
  {
   "cell_type": "code",
   "execution_count": 90,
   "metadata": {
    "colab": {},
    "colab_type": "code",
    "id": "6Bd2qla8kinw"
   },
   "outputs": [],
   "source": [
    "def train_3d(model, loss_fn, optimizer,dataloader,num_epochs = 1):\n",
    "    for epoch in range(num_epochs):\n",
    "        print('Starting epoch %d / %d' % (epoch + 1, num_epochs))\n",
    "        model.train()\n",
    "        for t, sample in enumerate(dataloader):\n",
    "            x_var = Variable(sample['clip'].type(dtype))\n",
    "            y_var = Variable(sample['Label'].type(dtype).long())\n",
    "\n",
    "            scores = model(x_var)\n",
    "            \n",
    "            loss = loss_fn(scores, y_var)\n",
    "            if (t + 1) % print_every == 0:\n",
    "                print('t = %d, loss = %.4f' % (t + 1, loss.data))\n",
    "\n",
    "            optimizer.zero_grad()\n",
    "            loss.backward()\n",
    "            optimizer.step()\n",
    "\n",
    "def check_accuracy_3d(model, loader):\n",
    "    '''\n",
    "    if loader.dataset.train:\n",
    "        print('Checking accuracy on validation set')\n",
    "    else:\n",
    "        print('Checking accuracy on test set')  \n",
    "    '''\n",
    "    num_correct = 0\n",
    "    num_samples = 0\n",
    "    model.eval() # Put the model in test mode (the opposite of model.train(), essentially)\n",
    "    for t, sample in enumerate(loader):\n",
    "        x_var = Variable(sample['clip'].type(dtype))\n",
    "        y_var = sample['Label'].type(dtype)\n",
    "        y_var=y_var.cpu()\n",
    "        scores = model(x_var)\n",
    "        _, preds = scores.data.cpu().max(1)\n",
    "        #print(preds)\n",
    "        #print(y_var)\n",
    "        num_correct += (preds.numpy() == y_var.numpy()).sum()\n",
    "        num_samples += preds.size(0)\n",
    "    acc = float(num_correct) / num_samples\n",
    "    print('Got %d / %d correct (%.2f)' % (num_correct, num_samples, 100 * acc))"
   ]
  },
  {
   "cell_type": "code",
   "execution_count": 93,
   "metadata": {
    "colab": {},
    "colab_type": "code",
    "id": "S9K2IQkIkiny",
    "scrolled": true
   },
   "outputs": [
    {
     "name": "stdout",
     "output_type": "stream",
     "text": [
      "Starting epoch 1 / 5\n",
      "t = 100, loss = 1.3299\n",
      "t = 200, loss = 0.5560\n",
      "t = 300, loss = 1.0908\n",
      "t = 400, loss = 0.8140\n",
      "Starting epoch 2 / 5\n",
      "t = 100, loss = 0.0281\n",
      "t = 200, loss = 2.0871\n",
      "t = 300, loss = 0.8280\n",
      "t = 400, loss = 0.7632\n",
      "Starting epoch 3 / 5\n",
      "t = 100, loss = 0.2080\n",
      "t = 200, loss = 0.1073\n",
      "t = 300, loss = 0.0468\n",
      "t = 400, loss = 0.0620\n",
      "Starting epoch 4 / 5\n",
      "t = 100, loss = 0.0003\n",
      "t = 200, loss = 0.0550\n",
      "t = 300, loss = 0.0055\n",
      "t = 400, loss = 0.0469\n",
      "Starting epoch 5 / 5\n",
      "t = 100, loss = 0.0000\n",
      "t = 200, loss = 0.0028\n",
      "t = 300, loss = 0.1152\n",
      "t = 400, loss = 0.1331\n",
      "Got 1401 / 2230 correct (62.83)\n"
     ]
    }
   ],
   "source": [
    "torch.cuda.random.manual_seed(12345)\n",
    "fixed_model_3d.apply(reset) \n",
    "fixed_model_3d.train() \n",
    "train_3d(fixed_model_3d, loss_fn, optimizer,clip_dataloader_train, num_epochs=5) \n",
    "fixed_model_3d.eval() \n",
    "check_accuracy_3d(fixed_model_3d, clip_dataloader_val)"
   ]
  },
  {
   "cell_type": "markdown",
   "metadata": {
    "colab_type": "text",
    "collapsed": true,
    "id": "cXdkDuK7kin1"
   },
   "source": [
    "Test your 3d convolution model on the validation set. You don't need to submit the result of this part to kaggle.  "
   ]
  },
  {
   "cell_type": "markdown",
   "metadata": {
    "colab_type": "text",
    "collapsed": true,
    "id": "rluHWqgEkin2"
   },
   "source": [
    "Test your model on the test set, predict_on_test_3d() will generate a file named 'results_3d.csv'. Please submit the csv file to kaggle https://www.kaggle.com/c/cse512springhw3video\n",
    "The highest 3 entries get extra 10 points.\n"
   ]
  },
  {
   "cell_type": "code",
   "execution_count": 94,
   "metadata": {
    "colab": {},
    "colab_type": "code",
    "id": "0xSwawMWkioB"
   },
   "outputs": [
    {
     "name": "stdout",
     "output_type": "stream",
     "text": [
      "3270\n"
     ]
    }
   ],
   "source": [
    "def predict_on_test_3d(model, loader):\n",
    "    '''\n",
    "    if loader.dataset.train:\n",
    "        print('Checking accuracy on validation set')\n",
    "    else:\n",
    "        print('Checking accuracy on test set')  \n",
    "    '''\n",
    "    num_correct = 0\n",
    "    num_samples = 0\n",
    "    model.eval() # Put the model in test mode (the opposite of model.train(), essentially)\n",
    "    results=open('results_3d1.csv','w')\n",
    "    count=0\n",
    "    results.write('Id'+','+'Class'+'\\n')\n",
    "    for t, sample in enumerate(loader):\n",
    "        x_var = Variable(sample['clip'].type(dtype))\n",
    "        scores = model(x_var)\n",
    "        _, preds = scores.data.max(1)\n",
    "        for i in range(len(preds)):\n",
    "            results.write(str(count)+','+str(preds[i].item())+'\\n')\n",
    "            count+=1\n",
    "    results.close()\n",
    "    return count\n",
    "    \n",
    "count=predict_on_test_3d(fixed_model_3d, clip_dataloader_test)\n",
    "print(count)"
   ]
  }
 ],
 "metadata": {
  "colab": {
   "name": "Action_CNN.ipynb",
   "provenance": []
  },
  "kernelspec": {
   "display_name": "Python 3",
   "language": "python",
   "name": "python3"
  },
  "language_info": {
   "codemirror_mode": {
    "name": "ipython",
    "version": 3
   },
   "file_extension": ".py",
   "mimetype": "text/x-python",
   "name": "python",
   "nbconvert_exporter": "python",
   "pygments_lexer": "ipython3",
   "version": "3.7.3"
  }
 },
 "nbformat": 4,
 "nbformat_minor": 1
}
