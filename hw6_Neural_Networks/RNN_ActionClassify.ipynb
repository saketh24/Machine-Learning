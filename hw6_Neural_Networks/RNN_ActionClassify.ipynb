{
 "cells": [
  {
   "cell_type": "markdown",
   "metadata": {
    "colab_type": "text",
    "id": "g9gL6InhzGno"
   },
   "source": [
    "# Sequence Classification using Recurrent Neural Networks(RNN)\n",
    "In this homework, you will learn how to train a recurrent neural network for human action classification. RNN is designed handle sequential data. The network can incorporate both past history and current input. [This](http://colah.github.io/posts/2015-08-Understanding-LSTMs/) is a very good tutorial. You should read it before you start."
   ]
  },
  {
   "cell_type": "markdown",
   "metadata": {
    "colab_type": "text",
    "id": "XFlewEI6zGnt"
   },
   "source": [
    "## Setup\n",
    "Please make sure you have h5py and torchnet installed\n",
    "> pip install h5py\n",
    "\n",
    "> pip install git+https://github.com/pytorch/tnt.git@master\n"
   ]
  },
  {
   "cell_type": "code",
   "execution_count": 1,
   "metadata": {},
   "outputs": [
    {
     "name": "stdout",
     "output_type": "stream",
     "text": [
      "Requirement already satisfied: h5py in c:\\users\\saket\\anaconda3\\lib\\site-packages (2.8.0)\n",
      "Requirement already satisfied: numpy>=1.7 in c:\\users\\saket\\anaconda3\\lib\\site-packages (from h5py) (1.16.4)\n",
      "Requirement already satisfied: six in c:\\users\\saket\\anaconda3\\lib\\site-packages (from h5py) (1.12.0)\n",
      "Note: you may need to restart the kernel to use updated packages.\n"
     ]
    }
   ],
   "source": [
    "pip install h5py"
   ]
  },
  {
   "cell_type": "code",
   "execution_count": 2,
   "metadata": {},
   "outputs": [
    {
     "name": "stdout",
     "output_type": "stream",
     "text": [
      "Collecting git+https://github.com/pytorch/tnt.git@master\n",
      "  Cloning https://github.com/pytorch/tnt.git (to revision master) to c:\\users\\saket\\appdata\\local\\temp\\pip-req-build-pzrwuyug\n",
      "Requirement already satisfied: torch in c:\\users\\saket\\anaconda3\\lib\\site-packages (from torchnet==0.0.5.1) (1.3.1+cpu)\n",
      "Requirement already satisfied: six in c:\\users\\saket\\anaconda3\\lib\\site-packages (from torchnet==0.0.5.1) (1.12.0)\n",
      "Collecting visdom (from torchnet==0.0.5.1)\n",
      "  Downloading https://files.pythonhosted.org/packages/c9/75/e078f5a2e1df7e0d3044749089fc2823e62d029cc027ed8ae5d71fafcbdc/visdom-0.1.8.9.tar.gz (676kB)\n",
      "Requirement already satisfied: numpy in c:\\users\\saket\\anaconda3\\lib\\site-packages (from torch->torchnet==0.0.5.1) (1.16.4)\n",
      "Requirement already satisfied: scipy in c:\\users\\saket\\anaconda3\\lib\\site-packages (from visdom->torchnet==0.0.5.1) (1.2.1)\n",
      "Requirement already satisfied: requests in c:\\users\\saket\\anaconda3\\lib\\site-packages (from visdom->torchnet==0.0.5.1) (2.22.0)\n",
      "Requirement already satisfied: tornado in c:\\users\\saket\\anaconda3\\lib\\site-packages (from visdom->torchnet==0.0.5.1) (6.0.3)\n",
      "Requirement already satisfied: pyzmq in c:\\users\\saket\\anaconda3\\lib\\site-packages (from visdom->torchnet==0.0.5.1) (18.0.0)\n",
      "Collecting jsonpatch (from visdom->torchnet==0.0.5.1)\n",
      "  Downloading https://files.pythonhosted.org/packages/86/7e/035d19a73306278673039f0805b863be8798057cc1b4008b9c8c7d1d32a3/jsonpatch-1.24-py2.py3-none-any.whl\n",
      "Collecting torchfile (from visdom->torchnet==0.0.5.1)\n",
      "  Downloading https://files.pythonhosted.org/packages/91/af/5b305f86f2d218091af657ddb53f984ecbd9518ca9fe8ef4103a007252c9/torchfile-0.1.0.tar.gz\n",
      "Collecting websocket-client (from visdom->torchnet==0.0.5.1)\n",
      "  Downloading https://files.pythonhosted.org/packages/29/19/44753eab1fdb50770ac69605527e8859468f3c0fd7dc5a76dd9c4dbd7906/websocket_client-0.56.0-py2.py3-none-any.whl (200kB)\n",
      "Requirement already satisfied: pillow in c:\\users\\saket\\anaconda3\\lib\\site-packages (from visdom->torchnet==0.0.5.1) (6.1.0)\n",
      "Requirement already satisfied: certifi>=2017.4.17 in c:\\users\\saket\\anaconda3\\lib\\site-packages (from requests->visdom->torchnet==0.0.5.1) (2019.9.11)\n",
      "Requirement already satisfied: urllib3!=1.25.0,!=1.25.1,<1.26,>=1.21.1 in c:\\users\\saket\\anaconda3\\lib\\site-packages (from requests->visdom->torchnet==0.0.5.1) (1.24.2)\n",
      "Requirement already satisfied: idna<2.9,>=2.5 in c:\\users\\saket\\anaconda3\\lib\\site-packages (from requests->visdom->torchnet==0.0.5.1) (2.8)\n",
      "Requirement already satisfied: chardet<3.1.0,>=3.0.2 in c:\\users\\saket\\anaconda3\\lib\\site-packages (from requests->visdom->torchnet==0.0.5.1) (3.0.4)\n",
      "Collecting jsonpointer>=1.9 (from jsonpatch->visdom->torchnet==0.0.5.1)\n",
      "  Downloading https://files.pythonhosted.org/packages/18/b0/a80d29577c08eea401659254dfaed87f1af45272899e1812d7e01b679bc5/jsonpointer-2.0-py2.py3-none-any.whl\n",
      "Building wheels for collected packages: torchnet, visdom, torchfile\n",
      "  Building wheel for torchnet (setup.py): started\n",
      "  Building wheel for torchnet (setup.py): finished with status 'done'\n",
      "  Stored in directory: C:\\Users\\saket\\AppData\\Local\\Temp\\pip-ephem-wheel-cache-gqp6fiua\\wheels\\17\\05\\ec\\d05d051a225871af52bf504f5e8daf57704811b3c1850d0012\n",
      "  Building wheel for visdom (setup.py): started\n",
      "  Building wheel for visdom (setup.py): finished with status 'done'\n",
      "  Stored in directory: C:\\Users\\saket\\AppData\\Local\\pip\\Cache\\wheels\\70\\19\\a7\\6d589ed967f4dfefd33bc166d081257bd4ed0cb618dccfd62a\n",
      "  Building wheel for torchfile (setup.py): started\n",
      "  Building wheel for torchfile (setup.py): finished with status 'done'\n",
      "  Stored in directory: C:\\Users\\saket\\AppData\\Local\\pip\\Cache\\wheels\\b1\\c3\\d6\\9a1cc8f3a99a0fc1124cae20153f36af59a6e683daca0a0814\n",
      "Successfully built torchnet visdom torchfile\n",
      "Installing collected packages: jsonpointer, jsonpatch, torchfile, websocket-client, visdom, torchnet\n",
      "Successfully installed jsonpatch-1.24 jsonpointer-2.0 torchfile-0.1.0 torchnet-0.0.5.1 visdom-0.1.8.9 websocket-client-0.56.0\n",
      "Note: you may need to restart the kernel to use updated packages.\n"
     ]
    },
    {
     "name": "stderr",
     "output_type": "stream",
     "text": [
      "  Running command git clone -q https://github.com/pytorch/tnt.git 'C:\\Users\\saket\\AppData\\Local\\Temp\\pip-req-build-pzrwuyug'\n"
     ]
    }
   ],
   "source": [
    "pip install git+https://github.com/pytorch/tnt.git@master"
   ]
  },
  {
   "cell_type": "code",
   "execution_count": 8,
   "metadata": {
    "colab": {},
    "colab_type": "code",
    "id": "xzmKOyGAzGnw",
    "outputId": "29512350-b45d-4d38-dce7-6d71ed5f9bee"
   },
   "outputs": [
    {
     "name": "stdout",
     "output_type": "stream",
     "text": [
      "use cuda: False\n"
     ]
    }
   ],
   "source": [
    "import os\n",
    "import numpy as np\n",
    "import h5py\n",
    "\n",
    "import torch\n",
    "import torch.nn as nn\n",
    "from torch.autograd import Variable\n",
    "import torch.utils.data as DD\n",
    "import torchnet as tnt\n",
    "import torch.optim as optim\n",
    "use_cuda = torch.cuda.is_available()\n",
    "print('use cuda: %s'%(use_cuda))\n",
    "FloatTensor = torch.cuda.FloatTensor if use_cuda else torch.FloatTensor\n",
    "LongTensor = torch.cuda.LongTensor if use_cuda else torch.LongTensor\n",
    "ByteTensor = torch.cuda.ByteTensor if use_cuda else torch.ByteTensor\n"
   ]
  },
  {
   "cell_type": "markdown",
   "metadata": {
    "colab_type": "text",
    "id": "gMuQMMsCzGn_"
   },
   "source": [
    "## Dataset\n",
    "The data we are using is skeleton data, which indicates the 3D locations of body joints. In total, there are 25 body joints. It is collected by Kinect v2. To make it easier, each sequence have same number of frames. You need to classify 10 different actions. There are 2000 training sequences, 400 validation sequences, and 500 test sequences. Each sequence has 15 frames, each frame is a 75-dimension vector (3*25). \n",
    "\n",
    "For your convenience, we provide the dataloader for you.\n"
   ]
  },
  {
   "cell_type": "code",
   "execution_count": 18,
   "metadata": {
    "colab": {},
    "colab_type": "code",
    "id": "EXO8pvo2zGoC"
   },
   "outputs": [],
   "source": [
    "class Dataset(DD.Dataset):\n",
    "    # subset can be: 'train', 'val', 'test'\n",
    "    def __init__(self, data_path, subset='train'):\n",
    "        super(Dataset, self).__init__()\n",
    "        self.data_path = os.path.join(data_path, '%s_data.h5'%subset)\n",
    "        self.subset = subset\n",
    "\n",
    "        with h5py.File(self.data_path) as f:\n",
    "            self.data = np.array(f['data'])\n",
    "\n",
    "        if subset != 'test':\n",
    "            self.label_path = os.path.join(data_path, '%s_label.h5'%subset)\n",
    "            with h5py.File(self.label_path) as f:\n",
    "                self.label = np.array(f['label'])\n",
    "\n",
    "        self.num_sequences = self.data.shape[0]\n",
    "        self.seq_len = self.data.shape[1]\n",
    "        self.n_dim = self.data.shape[2]\n",
    "\n",
    "    def __getitem__(self, index):\n",
    "        seq = self.data[index]\n",
    "        if self.subset != 'test':\n",
    "            label = int(self.label[index])\n",
    "            sample = {'seq': seq, 'label': label}\n",
    "        else:\n",
    "            sample = {'seq': seq}\n",
    "        return sample\n",
    "\n",
    "    def __len__(self):\n",
    "        return self.num_sequences\n",
    "\n",
    "trSet = Dataset('C:/Users/saket/Downloads/hw6(2)/Question3/data', subset='train')\n",
    "valSet = Dataset('C:/Users/saket/Downloads/hw6(2)/Question3/data', subset='val')\n",
    "tstSet = Dataset('C:/Users/saket/Downloads/hw6(2)/Question3/data', subset='test')\n",
    "\n",
    "batch_size = 50\n",
    "trLD = DD.DataLoader(trSet, batch_size=batch_size,\n",
    "       sampler=DD.sampler.RandomSampler(trSet),\n",
    "       num_workers=0, pin_memory=False)\n",
    "valLD = DD.DataLoader(valSet, batch_size=batch_size,\n",
    "       sampler=DD.sampler.SequentialSampler(valSet),\n",
    "       num_workers=0, pin_memory=False)\n",
    "tstLD = DD.DataLoader(tstSet, batch_size=batch_size,\n",
    "       sampler=DD.sampler.SequentialSampler(tstSet),\n",
    "       num_workers=0, pin_memory=False)\n",
    "\n",
    "input_dim = trSet.n_dim\n",
    "num_class = 10"
   ]
  },
  {
   "cell_type": "markdown",
   "metadata": {
    "colab_type": "text",
    "id": "WYZs2LMkzGoJ"
   },
   "source": [
    "## Model\n",
    "Pytorch has implemented different types of recurrent layers for you. For this homework, you can use any type of RNNs as you want:\n",
    "> torch.nn.RNN()\n",
    "\n",
    "> torch.nn.LSTM()\n",
    "\n",
    "> torch.nn.GRU()\n",
    "\n",
    "You can check details for different types of recurrent layers here: [RNN](http://pytorch.org/docs/master/nn.html#torch.nn.RNN), [LSTM]( http://pytorch.org/docs/master/nn.html#torch.nn.LSTM), [GRU](http://pytorch.org/docs/master/nn.html#torch.nn.GRU)\n",
    "\n",
    "\n",
    "### Implement a specific model\n",
    "In this section, you need to implement a model for sequence classification. The model has following layers:\n",
    "* A linear layer that can map features of 75-dimension to 100-dimension.\n",
    "* 1 Layer LSTM layer with hidden size of 100\n",
    "* A linear layer that goes from 100 to num_class (10). \n",
    "\n",
    "An LSTM layer takes an input of size of (batch_size, seq_len, fea_dim) and outputs a variable of shape (batch_size, seq_len, hidden_size). In this homework, the classification score for a sequence is the classification score for the last step of rnn_outputs.\n",
    "\n"
   ]
  },
  {
   "cell_type": "code",
   "execution_count": 22,
   "metadata": {
    "colab": {},
    "colab_type": "code",
    "id": "p7fj2fjTzGoL"
   },
   "outputs": [],
   "source": [
    "# sequence classification model\n",
    "class SequenceClassify(nn.Module):\n",
    "    def __init__(self):\n",
    "        super(SequenceClassify, self).__init__()\n",
    "        \n",
    "        ############## 1st To Do (10 points) ##############\n",
    "        ###################################################\n",
    "        self.project_layer = nn.Linear(75,100)\n",
    "        self.recurrent_layer = nn.LSTM(100,100,1)\n",
    "        self.classify_layer = nn.Linear(100,10)\n",
    "        ###################################################\n",
    "    \n",
    "    # the size of input is [batch_size, seq_len(15), input_dim(75)]\n",
    "    # the size of logits is [batch_size, num_class]\n",
    "    def forward(self, input, h_t_1=None, c_t_1=None):\n",
    "        # the size of rnn_outputs is [batch_size, seq_len, rnn_size]\n",
    "        rnn_outputs, (hn, cn) = self.recurrent_layer(self.project_layer(input))\n",
    "        # classify the last step of rnn_outpus\n",
    "        # the size of logits is [batch_size, num_class]\n",
    "        logits = self.classify_layer(rnn_outputs[:,-1])\n",
    "        return logits\n",
    "\n",
    "model = SequenceClassify()"
   ]
  },
  {
   "cell_type": "markdown",
   "metadata": {
    "colab_type": "text",
    "id": "rQXf8dINzGoT"
   },
   "source": [
    "## Train the model\n",
    "After you have the dataloader and model, you can start training the model. Define a SGD optimizer with learning rate of 1e-3, and a cross-entropy loss function:"
   ]
  },
  {
   "cell_type": "code",
   "execution_count": 13,
   "metadata": {
    "colab": {},
    "colab_type": "code",
    "id": "zo8WUdiIzGoU"
   },
   "outputs": [],
   "source": [
    "################ 2nd To Do  (5 points)##################\n",
    "dtype = torch.FloatTensor\n",
    "optimizer = optim.SGD(model.parameters(), lr = 1e-3)\n",
    "criterion = nn.CrossEntropyLoss().type(dtype)"
   ]
  },
  {
   "cell_type": "code",
   "execution_count": 25,
   "metadata": {
    "colab": {},
    "colab_type": "code",
    "id": "nbus_qJIzGoZ"
   },
   "outputs": [
    {
     "name": "stdout",
     "output_type": "stream",
     "text": [
      "train Epoch: 0  , Loss: 2.3133,  Accuracy: 10.05\n",
      "val Epoch: 0  , Loss: 2.3136,  Accuracy: 9.50\n",
      "train Epoch: 1  , Loss: 2.3123,  Accuracy: 9.90\n",
      "train Epoch: 2  , Loss: 2.3125,  Accuracy: 10.00\n",
      "train Epoch: 3  , Loss: 2.3128,  Accuracy: 9.90\n",
      "train Epoch: 4  , Loss: 2.3128,  Accuracy: 10.00\n",
      "train Epoch: 5  , Loss: 2.3125,  Accuracy: 10.00\n",
      "val Epoch: 5  , Loss: 2.3136,  Accuracy: 9.50\n",
      "train Epoch: 6  , Loss: 2.3127,  Accuracy: 9.85\n",
      "train Epoch: 7  , Loss: 2.3123,  Accuracy: 10.00\n",
      "train Epoch: 8  , Loss: 2.3126,  Accuracy: 10.10\n",
      "train Epoch: 9  , Loss: 2.3132,  Accuracy: 10.05\n"
     ]
    }
   ],
   "source": [
    "# run the model for one epoch\n",
    "# can be used for both training or validation model\n",
    "def run_epoch(data_loader, model, criterion, epoch, is_training, optimizer=None):\n",
    "    if is_training:\n",
    "        model.train()\n",
    "        logger_prefix = 'train'\n",
    "    else:\n",
    "        model.eval()\n",
    "        logger_prefix = 'val'\n",
    "\n",
    "    confusion_matrix = tnt.meter.ConfusionMeter(num_class)\n",
    "    acc = tnt.meter.ClassErrorMeter(accuracy=True)\n",
    "    meter_loss = tnt.meter.AverageValueMeter()\n",
    "\n",
    "    for batch_idx, sample in enumerate(data_loader):\n",
    "        sequence = sample['seq']\n",
    "        label = sample['label']\n",
    "        input_sequence_var = Variable(sequence).type(FloatTensor)\n",
    "        input_label_var = Variable(label).type(LongTensor)\n",
    "\n",
    "        # compute output\n",
    "        # output_logits: [batch_size, num_class]\n",
    "        output_logits = model(input_sequence_var)\n",
    "        loss = criterion(output_logits, input_label_var)\n",
    "\n",
    "        if is_training:\n",
    "            optimizer.zero_grad()\n",
    "            loss.backward()\n",
    "            optimizer.step()\n",
    "\n",
    "        meter_loss.add(loss.data)\n",
    "        acc.add(output_logits.data, input_label_var.data)\n",
    "        confusion_matrix.add(output_logits.data, input_label_var.data)\n",
    "\n",
    "\n",
    "    print('%s Epoch: %d  , Loss: %.4f,  Accuracy: %.2f'%(logger_prefix, epoch, meter_loss.value()[0], acc.value()[0]))\n",
    "    return acc.value()[0]\n",
    "\n",
    "num_epochs = 10\n",
    "evaluate_every_epoch = 5\n",
    "for e in range(num_epochs):\n",
    "    run_epoch(trLD, model, criterion, e, True, optimizer)\n",
    "    if e % evaluate_every_epoch == 0:\n",
    "        run_epoch(valLD, model, criterion, e, False, None)   \n"
   ]
  },
  {
   "cell_type": "markdown",
   "metadata": {
    "colab_type": "text",
    "id": "r_hqe-krzGod"
   },
   "source": [
    "## Submit your results \n",
    "\n",
    "### Train a better model for action recognition!\n",
    "Now it's your job to experiment with architectures, hyperparameters, loss functions, and optimizers to train a model that achieves better accuracy on the action recognition validation set. \n",
    "\n",
    "\n",
    "### Testing the model and reporting the results\n",
    "Test the model on the testing set and save the results as a .csv file. \n",
    "submit the results.csv file generated by predict_on_test(). Also mention the best performance on the Validation set, and submit the corresponding results csv file which results in the best performance. \n",
    "################ 3rd To Do  (15 points) ###############\n"
   ]
  },
  {
   "cell_type": "code",
   "execution_count": 26,
   "metadata": {},
   "outputs": [],
   "source": [
    "class Flatten(nn.Module):\n",
    "    def forward(self, x):\n",
    "        N, C, H, W = x.size()\n",
    "        return x.view(N, -1)"
   ]
  },
  {
   "cell_type": "code",
   "execution_count": 66,
   "metadata": {},
   "outputs": [],
   "source": [
    "# sequence classification model\n",
    "class SequenceClassify1(nn.Module):\n",
    "    def __init__(self):\n",
    "        super(SequenceClassify1, self).__init__()\n",
    "        \n",
    "        self.project_layer = nn.Sequential(\n",
    "            nn.Conv2d(1, 128,kernel_size = 3, stride = 1),\n",
    "            nn.ReLU(inplace = True),\n",
    "            nn.BatchNorm2d(128),\n",
    "            nn.MaxPool2d(kernel_size =2, stride = 2, padding =0),\n",
    "            nn.Conv2d(128,256,kernel_size = 2, stride = 1),\n",
    "            nn.ReLU(inplace = True),\n",
    "            nn.BatchNorm2d(256),\n",
    "            nn.MaxPool2d(kernel_size = 2,stride = 2, padding = 0),\n",
    "            Flatten(),\n",
    "            nn.ReLU(inplace = True),\n",
    "            nn.Linear(8704,2048),\n",
    "            nn.Dropout(p = 0.2),\n",
    "            nn.Linear(2048,100),\n",
    "        )\n",
    "        self.recurrent_layer = nn.LSTM(100,100,1)\n",
    "        self.classify_layer = nn.Linear(100,10)\n",
    "        ###################################################\n",
    "    \n",
    "    # the size of input is [batch_size, seq_len(15), input_dim(75)]\n",
    "    # the size of logits is [batch_size, num_class]\n",
    "    def forward(self, input, h_t_1=None, c_t_1=None):\n",
    "        # the size of rnn_outputs is [batch_size, seq_len, rnn_size]\n",
    "        rnn_outputs = self.project_layer(input.view(50, 1, 15, 75))\n",
    "        rnn_outputs, (hn, cn) = self.recurrent_layer(rnn_outputs.view(50,1,100))\n",
    "        # classify the last step of rnn_outpus\n",
    "        # the size of logits is [batch_size, num_class]\n",
    "        logits = self.classify_layer(rnn_outputs[:,-1])\n",
    "        return logits\n",
    "\n",
    "model1 = SequenceClassify1()"
   ]
  },
  {
   "cell_type": "code",
   "execution_count": 67,
   "metadata": {},
   "outputs": [],
   "source": [
    "dtype = torch.FloatTensor\n",
    "optimizer1 = optim.Adam(model1.parameters(), lr = 1e-4)\n",
    "criterion1 = nn.CrossEntropyLoss()"
   ]
  },
  {
   "cell_type": "code",
   "execution_count": 68,
   "metadata": {},
   "outputs": [
    {
     "name": "stdout",
     "output_type": "stream",
     "text": [
      "train Epoch: 0  , Loss: 2.2141,  Accuracy: 18.25\n",
      "val Epoch: 0  , Loss: 2.1615,  Accuracy: 21.00\n",
      "train Epoch: 1  , Loss: 1.9210,  Accuracy: 42.25\n",
      "train Epoch: 2  , Loss: 1.6402,  Accuracy: 57.60\n",
      "train Epoch: 3  , Loss: 1.4284,  Accuracy: 67.20\n",
      "train Epoch: 4  , Loss: 1.2820,  Accuracy: 69.70\n",
      "train Epoch: 5  , Loss: 1.1678,  Accuracy: 73.50\n",
      "val Epoch: 5  , Loss: 1.1510,  Accuracy: 74.50\n",
      "train Epoch: 6  , Loss: 1.0775,  Accuracy: 75.55\n",
      "train Epoch: 7  , Loss: 0.9998,  Accuracy: 77.55\n",
      "train Epoch: 8  , Loss: 0.9185,  Accuracy: 79.45\n",
      "train Epoch: 9  , Loss: 0.8530,  Accuracy: 81.85\n"
     ]
    }
   ],
   "source": [
    "num_epochs = 10\n",
    "evaluate_every_epoch = 5\n",
    "for e in range(num_epochs):\n",
    "    run_epoch(trLD, model1, criterion1, e, True, optimizer1)\n",
    "    if e % evaluate_every_epoch == 0:\n",
    "        run_epoch(valLD, model1, criterion1, e, False, None)   \n",
    "    "
   ]
  },
  {
   "cell_type": "code",
   "execution_count": 70,
   "metadata": {
    "colab": {},
    "colab_type": "code",
    "id": "n87MwbsGzGoe"
   },
   "outputs": [
    {
     "name": "stdout",
     "output_type": "stream",
     "text": [
      "500\n"
     ]
    }
   ],
   "source": [
    "# Use your best model to generate results on test set and validation set.\n",
    "\n",
    "# generate csv file for test set\n",
    "def predict_on_test(model, data_loader):\n",
    "    model1.eval() # Put the model in test mode (the opposite of model.train(), essentially)\n",
    "    results=open('results_q3.csv','w')\n",
    "    count=0\n",
    "    results.write('Id'+','+'Class'+'\\n')\n",
    "    for batch_idx, sample in enumerate(data_loader):\n",
    "        sequence = sample['seq']\n",
    "        input_sequence_var = Variable(sequence).type(FloatTensor)\n",
    "        scores = model(input_sequence_var)\n",
    "        _, preds = scores.data.max(1)\n",
    "        for i in range(len(preds)):\n",
    "            results.write(str(count)+','+str(preds[i].item())+'\\n')\n",
    "            count+=1\n",
    "    results.close()\n",
    "    return count\n",
    "\n",
    "count=predict_on_test(model1, tstLD)\n",
    "print(count)"
   ]
  },
  {
   "cell_type": "code",
   "execution_count": 71,
   "metadata": {},
   "outputs": [
    {
     "name": "stdout",
     "output_type": "stream",
     "text": [
      "400\n"
     ]
    }
   ],
   "source": [
    "# Use your best model to generate results on test set and validation set.\n",
    "\n",
    "# generate csv file for val set\n",
    "def predict_on_test(model, data_loader):\n",
    "    model1.eval() # Put the model in test mode (the opposite of model.train(), essentially)\n",
    "    results=open('results_q3_val.csv','w')\n",
    "    count=0\n",
    "    results.write('Id'+','+'Class'+'\\n')\n",
    "    for batch_idx, sample in enumerate(data_loader):\n",
    "        sequence = sample['seq']\n",
    "        input_sequence_var = Variable(sequence).type(FloatTensor)\n",
    "        scores = model(input_sequence_var)\n",
    "        _, preds = scores.data.max(1)\n",
    "        for i in range(len(preds)):\n",
    "            results.write(str(count)+','+str(preds[i].item())+'\\n')\n",
    "            count+=1\n",
    "    results.close()\n",
    "    return count\n",
    "\n",
    "count=predict_on_test(model1, valLD)\n",
    "print(count)"
   ]
  },
  {
   "cell_type": "code",
   "execution_count": 72,
   "metadata": {},
   "outputs": [
    {
     "name": "stdout",
     "output_type": "stream",
     "text": [
      "val Epoch: 1  , Loss: 0.9728,  Accuracy: 75.25\n"
     ]
    },
    {
     "data": {
      "text/plain": [
       "75.25"
      ]
     },
     "execution_count": 72,
     "metadata": {},
     "output_type": "execute_result"
    }
   ],
   "source": [
    "run_epoch(valLD, model1, criterion1, 1, False, None)"
   ]
  },
  {
   "cell_type": "markdown",
   "metadata": {
    "colab_type": "text",
    "id": "yJua9UOMzGoi"
   },
   "source": [
    "## Report the performance\n",
    "################ 4th To Do  (5 points)##################\n",
    "\n",
    "In this cell, you should write an explanation of what you did (network architecture, optimiziter, learning rate, epoches) and any visualizations or graphs that you make in the process of training and evaluating your network.\n",
    "\n"
   ]
  },
  {
   "cell_type": "markdown",
   "metadata": {
    "colab_type": "text",
    "id": "RsPkGp53zGoi"
   },
   "source": [
    "1) For my network I decided to use the LSTM architecture. \n",
    "\n",
    "2) Before feeding into the LSTM, I used two convolutional layers with batch normalization and max pooling for my input.\n",
    "\n",
    "3) I also used a couple of linear layers to map to the final input before feeding it into the LSTM network.\n",
    "\n",
    "4) Using dropout layers between the linear layers helped reduce overfitting and my validation accuracy was also improving steadily with each epoch.\n",
    "\n",
    "5) I used an Adam Optimizer and cross entropy loss as this combination proved to be the most fruitful. I also tried various loss functions such as NLL Losss and vaious optimizers such as SGD. \n",
    "\n",
    "6) Training my network for 10 epochs significantly increased the training erorr, although, due to time consumption, I decided not to train for many more epochs. However, doing so may have led to further convergence of the training loss."
   ]
  },
  {
   "cell_type": "code",
   "execution_count": null,
   "metadata": {},
   "outputs": [],
   "source": []
  }
 ],
 "metadata": {
  "colab": {
   "collapsed_sections": [],
   "name": "RNN_ActionClassify.ipynb",
   "provenance": []
  },
  "kernelspec": {
   "display_name": "Python 3",
   "language": "python",
   "name": "python3"
  },
  "language_info": {
   "codemirror_mode": {
    "name": "ipython",
    "version": 3
   },
   "file_extension": ".py",
   "mimetype": "text/x-python",
   "name": "python",
   "nbconvert_exporter": "python",
   "pygments_lexer": "ipython3",
   "version": "3.7.3"
  }
 },
 "nbformat": 4,
 "nbformat_minor": 1
}
